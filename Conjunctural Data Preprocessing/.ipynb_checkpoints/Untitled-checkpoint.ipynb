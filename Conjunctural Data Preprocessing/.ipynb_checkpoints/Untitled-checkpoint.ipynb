{
 "cells": [
  {
   "cell_type": "code",
   "execution_count": 1,
   "id": "b28a1f91",
   "metadata": {},
   "outputs": [
    {
     "name": "stdout",
     "output_type": "stream",
     "text": [
      "Requirement already satisfied: geemap in c:\\users\\ashas\\anaconda3\\envs\\geo\\lib\\site-packages (0.32.1)\n",
      "Requirement already satisfied: bqplot in c:\\users\\ashas\\anaconda3\\envs\\geo\\lib\\site-packages (from geemap) (0.12.43)\n",
      "Requirement already satisfied: colour in c:\\users\\ashas\\anaconda3\\envs\\geo\\lib\\site-packages (from geemap) (0.1.5)\n",
      "Requirement already satisfied: earthengine-api>=0.1.347 in c:\\users\\ashas\\anaconda3\\envs\\geo\\lib\\site-packages (from geemap) (0.1.400)\n",
      "Requirement already satisfied: eerepr>=0.0.4 in c:\\users\\ashas\\anaconda3\\envs\\geo\\lib\\site-packages (from geemap) (0.0.4)\n",
      "Requirement already satisfied: folium>=0.13.0 in c:\\users\\ashas\\anaconda3\\envs\\geo\\lib\\site-packages (from geemap) (0.16.0)\n",
      "Requirement already satisfied: geocoder in c:\\users\\ashas\\anaconda3\\envs\\geo\\lib\\site-packages (from geemap) (1.38.1)\n",
      "Requirement already satisfied: ipyevents in c:\\users\\ashas\\anaconda3\\envs\\geo\\lib\\site-packages (from geemap) (2.0.2)\n",
      "Requirement already satisfied: ipyfilechooser>=0.6.0 in c:\\users\\ashas\\anaconda3\\envs\\geo\\lib\\site-packages (from geemap) (0.6.0)\n",
      "Requirement already satisfied: ipyleaflet==0.18.2 in c:\\users\\ashas\\anaconda3\\envs\\geo\\lib\\site-packages (from geemap) (0.18.2)\n",
      "Requirement already satisfied: ipytree in c:\\users\\ashas\\anaconda3\\envs\\geo\\lib\\site-packages (from geemap) (0.2.2)\n",
      "Requirement already satisfied: matplotlib in c:\\users\\ashas\\anaconda3\\envs\\geo\\lib\\site-packages (from geemap) (3.7.2)\n",
      "Requirement already satisfied: numpy in c:\\users\\ashas\\anaconda3\\envs\\geo\\lib\\site-packages (from geemap) (1.24.3)\n",
      "Requirement already satisfied: pandas in c:\\users\\ashas\\anaconda3\\envs\\geo\\lib\\site-packages (from geemap) (2.0.3)\n",
      "Requirement already satisfied: plotly in c:\\users\\ashas\\anaconda3\\envs\\geo\\lib\\site-packages (from geemap) (5.20.0)\n",
      "Requirement already satisfied: pyperclip in c:\\users\\ashas\\anaconda3\\envs\\geo\\lib\\site-packages (from geemap) (1.8.2)\n",
      "Requirement already satisfied: pyshp>=2.1.3 in c:\\users\\ashas\\anaconda3\\envs\\geo\\lib\\site-packages (from geemap) (2.3.1)\n",
      "Requirement already satisfied: python-box in c:\\users\\ashas\\anaconda3\\envs\\geo\\lib\\site-packages (from geemap) (7.1.1)\n",
      "Requirement already satisfied: scooby in c:\\users\\ashas\\anaconda3\\envs\\geo\\lib\\site-packages (from geemap) (0.10.0)\n",
      "Requirement already satisfied: ipywidgets<9,>=7.6.0 in c:\\users\\ashas\\anaconda3\\envs\\geo\\lib\\site-packages (from ipyleaflet==0.18.2->geemap) (8.1.2)\n",
      "Requirement already satisfied: traittypes<3,>=0.2.1 in c:\\users\\ashas\\anaconda3\\envs\\geo\\lib\\site-packages (from ipyleaflet==0.18.2->geemap) (0.2.1)\n",
      "Requirement already satisfied: xyzservices>=2021.8.1 in c:\\users\\ashas\\anaconda3\\envs\\geo\\lib\\site-packages (from ipyleaflet==0.18.2->geemap) (2024.4.0)\n",
      "Requirement already satisfied: branca>=0.5.0 in c:\\users\\ashas\\anaconda3\\envs\\geo\\lib\\site-packages (from ipyleaflet==0.18.2->geemap) (0.7.1)\n",
      "Requirement already satisfied: google-cloud-storage in c:\\users\\ashas\\anaconda3\\envs\\geo\\lib\\site-packages (from earthengine-api>=0.1.347->geemap) (2.16.0)\n",
      "Requirement already satisfied: google-api-python-client>=1.12.1 in c:\\users\\ashas\\anaconda3\\envs\\geo\\lib\\site-packages (from earthengine-api>=0.1.347->geemap) (2.127.0)\n",
      "Requirement already satisfied: google-auth>=1.4.1 in c:\\users\\ashas\\anaconda3\\envs\\geo\\lib\\site-packages (from earthengine-api>=0.1.347->geemap) (2.29.0)\n",
      "Requirement already satisfied: google-auth-httplib2>=0.0.3 in c:\\users\\ashas\\anaconda3\\envs\\geo\\lib\\site-packages (from earthengine-api>=0.1.347->geemap) (0.2.0)\n",
      "Requirement already satisfied: httplib2<1dev,>=0.9.2 in c:\\users\\ashas\\anaconda3\\envs\\geo\\lib\\site-packages (from earthengine-api>=0.1.347->geemap) (0.22.0)\n",
      "Requirement already satisfied: requests in c:\\users\\ashas\\anaconda3\\envs\\geo\\lib\\site-packages (from earthengine-api>=0.1.347->geemap) (2.31.0)\n",
      "Requirement already satisfied: jinja2>=2.9 in c:\\users\\ashas\\anaconda3\\envs\\geo\\lib\\site-packages (from folium>=0.13.0->geemap) (3.1.3)\n",
      "Requirement already satisfied: traitlets>=4.3.0 in c:\\users\\ashas\\anaconda3\\envs\\geo\\lib\\site-packages (from bqplot->geemap) (5.7.1)\n",
      "Requirement already satisfied: python-dateutil>=2.8.2 in c:\\users\\ashas\\anaconda3\\envs\\geo\\lib\\site-packages (from pandas->geemap) (2.8.2)\n",
      "Requirement already satisfied: pytz>=2020.1 in c:\\users\\ashas\\anaconda3\\envs\\geo\\lib\\site-packages (from pandas->geemap) (2023.3.post1)\n",
      "Requirement already satisfied: tzdata>=2022.1 in c:\\users\\ashas\\anaconda3\\envs\\geo\\lib\\site-packages (from pandas->geemap) (2023.3)\n",
      "Requirement already satisfied: click in c:\\users\\ashas\\anaconda3\\envs\\geo\\lib\\site-packages (from geocoder->geemap) (8.1.7)\n",
      "Requirement already satisfied: future in c:\\users\\ashas\\anaconda3\\envs\\geo\\lib\\site-packages (from geocoder->geemap) (1.0.0)\n",
      "Requirement already satisfied: ratelim in c:\\users\\ashas\\anaconda3\\envs\\geo\\lib\\site-packages (from geocoder->geemap) (0.1.6)\n",
      "Requirement already satisfied: six in c:\\users\\ashas\\anaconda3\\envs\\geo\\lib\\site-packages (from geocoder->geemap) (1.16.0)\n",
      "Requirement already satisfied: contourpy>=1.0.1 in c:\\users\\ashas\\anaconda3\\envs\\geo\\lib\\site-packages (from matplotlib->geemap) (1.0.5)\n",
      "Requirement already satisfied: cycler>=0.10 in c:\\users\\ashas\\anaconda3\\envs\\geo\\lib\\site-packages (from matplotlib->geemap) (0.11.0)\n",
      "Requirement already satisfied: fonttools>=4.22.0 in c:\\users\\ashas\\anaconda3\\envs\\geo\\lib\\site-packages (from matplotlib->geemap) (4.25.0)\n",
      "Requirement already satisfied: kiwisolver>=1.0.1 in c:\\users\\ashas\\anaconda3\\envs\\geo\\lib\\site-packages (from matplotlib->geemap) (1.4.4)\n",
      "Requirement already satisfied: packaging>=20.0 in c:\\users\\ashas\\anaconda3\\envs\\geo\\lib\\site-packages (from matplotlib->geemap) (23.2)\n",
      "Requirement already satisfied: pillow>=6.2.0 in c:\\users\\ashas\\anaconda3\\envs\\geo\\lib\\site-packages (from matplotlib->geemap) (10.2.0)\n",
      "Requirement already satisfied: pyparsing<3.1,>=2.3.1 in c:\\users\\ashas\\anaconda3\\envs\\geo\\lib\\site-packages (from matplotlib->geemap) (3.0.9)\n",
      "Requirement already satisfied: importlib-resources>=3.2.0 in c:\\users\\ashas\\anaconda3\\envs\\geo\\lib\\site-packages (from matplotlib->geemap) (6.1.1)\n",
      "Requirement already satisfied: tenacity>=6.2.0 in c:\\users\\ashas\\anaconda3\\envs\\geo\\lib\\site-packages (from plotly->geemap) (8.2.3)\n",
      "Requirement already satisfied: google-api-core!=2.0.*,!=2.1.*,!=2.2.*,!=2.3.0,<3.0.0.dev0,>=1.31.5 in c:\\users\\ashas\\anaconda3\\envs\\geo\\lib\\site-packages (from google-api-python-client>=1.12.1->earthengine-api>=0.1.347->geemap) (2.19.0)\n",
      "Requirement already satisfied: uritemplate<5,>=3.0.1 in c:\\users\\ashas\\anaconda3\\envs\\geo\\lib\\site-packages (from google-api-python-client>=1.12.1->earthengine-api>=0.1.347->geemap) (4.1.1)\n",
      "Requirement already satisfied: cachetools<6.0,>=2.0.0 in c:\\users\\ashas\\anaconda3\\envs\\geo\\lib\\site-packages (from google-auth>=1.4.1->earthengine-api>=0.1.347->geemap) (5.3.3)\n",
      "Requirement already satisfied: pyasn1-modules>=0.2.1 in c:\\users\\ashas\\anaconda3\\envs\\geo\\lib\\site-packages (from google-auth>=1.4.1->earthengine-api>=0.1.347->geemap) (0.4.0)\n",
      "Requirement already satisfied: rsa<5,>=3.1.4 in c:\\users\\ashas\\anaconda3\\envs\\geo\\lib\\site-packages (from google-auth>=1.4.1->earthengine-api>=0.1.347->geemap) (4.9)\n",
      "Requirement already satisfied: zipp>=3.1.0 in c:\\users\\ashas\\anaconda3\\envs\\geo\\lib\\site-packages (from importlib-resources>=3.2.0->matplotlib->geemap) (3.17.0)\n",
      "Requirement already satisfied: comm>=0.1.3 in c:\\users\\ashas\\anaconda3\\envs\\geo\\lib\\site-packages (from ipywidgets<9,>=7.6.0->ipyleaflet==0.18.2->geemap) (0.2.1)\n",
      "Requirement already satisfied: ipython>=6.1.0 in c:\\users\\ashas\\anaconda3\\envs\\geo\\lib\\site-packages (from ipywidgets<9,>=7.6.0->ipyleaflet==0.18.2->geemap) (8.12.2)\n",
      "Requirement already satisfied: widgetsnbextension~=4.0.10 in c:\\users\\ashas\\anaconda3\\envs\\geo\\lib\\site-packages (from ipywidgets<9,>=7.6.0->ipyleaflet==0.18.2->geemap) (4.0.10)\n",
      "Requirement already satisfied: jupyterlab-widgets~=3.0.10 in c:\\users\\ashas\\anaconda3\\envs\\geo\\lib\\site-packages (from ipywidgets<9,>=7.6.0->ipyleaflet==0.18.2->geemap) (3.0.10)\n",
      "Requirement already satisfied: MarkupSafe>=2.0 in c:\\users\\ashas\\anaconda3\\envs\\geo\\lib\\site-packages (from jinja2>=2.9->folium>=0.13.0->geemap) (2.1.3)\n",
      "Requirement already satisfied: colorama in c:\\users\\ashas\\anaconda3\\envs\\geo\\lib\\site-packages (from click->geocoder->geemap) (0.4.6)\n",
      "Requirement already satisfied: google-cloud-core<3.0dev,>=2.3.0 in c:\\users\\ashas\\anaconda3\\envs\\geo\\lib\\site-packages (from google-cloud-storage->earthengine-api>=0.1.347->geemap) (2.4.1)\n",
      "Requirement already satisfied: google-resumable-media>=2.6.0 in c:\\users\\ashas\\anaconda3\\envs\\geo\\lib\\site-packages (from google-cloud-storage->earthengine-api>=0.1.347->geemap) (2.7.0)\n",
      "Requirement already satisfied: google-crc32c<2.0dev,>=1.0 in c:\\users\\ashas\\anaconda3\\envs\\geo\\lib\\site-packages (from google-cloud-storage->earthengine-api>=0.1.347->geemap) (1.5.0)\n",
      "Requirement already satisfied: charset-normalizer<4,>=2 in c:\\users\\ashas\\anaconda3\\envs\\geo\\lib\\site-packages (from requests->earthengine-api>=0.1.347->geemap) (2.0.4)\n",
      "Requirement already satisfied: idna<4,>=2.5 in c:\\users\\ashas\\anaconda3\\envs\\geo\\lib\\site-packages (from requests->earthengine-api>=0.1.347->geemap) (3.4)\n",
      "Requirement already satisfied: urllib3<3,>=1.21.1 in c:\\users\\ashas\\anaconda3\\envs\\geo\\lib\\site-packages (from requests->earthengine-api>=0.1.347->geemap) (2.1.0)\n",
      "Requirement already satisfied: certifi>=2017.4.17 in c:\\users\\ashas\\anaconda3\\envs\\geo\\lib\\site-packages (from requests->earthengine-api>=0.1.347->geemap) (2024.2.2)\n",
      "Requirement already satisfied: decorator in c:\\users\\ashas\\appdata\\roaming\\python\\python38\\site-packages (from ratelim->geocoder->geemap) (4.3.0)\n",
      "Requirement already satisfied: googleapis-common-protos<2.0.dev0,>=1.56.2 in c:\\users\\ashas\\anaconda3\\envs\\geo\\lib\\site-packages (from google-api-core!=2.0.*,!=2.1.*,!=2.2.*,!=2.3.0,<3.0.0.dev0,>=1.31.5->google-api-python-client>=1.12.1->earthengine-api>=0.1.347->geemap) (1.63.0)\n",
      "Requirement already satisfied: protobuf!=3.20.0,!=3.20.1,!=4.21.0,!=4.21.1,!=4.21.2,!=4.21.3,!=4.21.4,!=4.21.5,<5.0.0.dev0,>=3.19.5 in c:\\users\\ashas\\anaconda3\\envs\\geo\\lib\\site-packages (from google-api-core!=2.0.*,!=2.1.*,!=2.2.*,!=2.3.0,<3.0.0.dev0,>=1.31.5->google-api-python-client>=1.12.1->earthengine-api>=0.1.347->geemap) (4.25.3)\n",
      "Requirement already satisfied: proto-plus<2.0.0dev,>=1.22.3 in c:\\users\\ashas\\anaconda3\\envs\\geo\\lib\\site-packages (from google-api-core!=2.0.*,!=2.1.*,!=2.2.*,!=2.3.0,<3.0.0.dev0,>=1.31.5->google-api-python-client>=1.12.1->earthengine-api>=0.1.347->geemap) (1.23.0)\n",
      "Requirement already satisfied: backcall in c:\\users\\ashas\\anaconda3\\envs\\geo\\lib\\site-packages (from ipython>=6.1.0->ipywidgets<9,>=7.6.0->ipyleaflet==0.18.2->geemap) (0.2.0)\n",
      "Requirement already satisfied: jedi>=0.16 in c:\\users\\ashas\\anaconda3\\envs\\geo\\lib\\site-packages (from ipython>=6.1.0->ipywidgets<9,>=7.6.0->ipyleaflet==0.18.2->geemap) (0.18.1)\n",
      "Requirement already satisfied: matplotlib-inline in c:\\users\\ashas\\anaconda3\\envs\\geo\\lib\\site-packages (from ipython>=6.1.0->ipywidgets<9,>=7.6.0->ipyleaflet==0.18.2->geemap) (0.1.6)\n",
      "Requirement already satisfied: pickleshare in c:\\users\\ashas\\anaconda3\\envs\\geo\\lib\\site-packages (from ipython>=6.1.0->ipywidgets<9,>=7.6.0->ipyleaflet==0.18.2->geemap) (0.7.5)\n",
      "Requirement already satisfied: prompt-toolkit!=3.0.37,<3.1.0,>=3.0.30 in c:\\users\\ashas\\anaconda3\\envs\\geo\\lib\\site-packages (from ipython>=6.1.0->ipywidgets<9,>=7.6.0->ipyleaflet==0.18.2->geemap) (3.0.43)\n",
      "Requirement already satisfied: pygments>=2.4.0 in c:\\users\\ashas\\anaconda3\\envs\\geo\\lib\\site-packages (from ipython>=6.1.0->ipywidgets<9,>=7.6.0->ipyleaflet==0.18.2->geemap) (2.15.1)\n",
      "Requirement already satisfied: stack-data in c:\\users\\ashas\\anaconda3\\envs\\geo\\lib\\site-packages (from ipython>=6.1.0->ipywidgets<9,>=7.6.0->ipyleaflet==0.18.2->geemap) (0.2.0)\n",
      "Requirement already satisfied: typing-extensions in c:\\users\\ashas\\anaconda3\\envs\\geo\\lib\\site-packages (from ipython>=6.1.0->ipywidgets<9,>=7.6.0->ipyleaflet==0.18.2->geemap) (4.9.0)\n",
      "Requirement already satisfied: pyasn1<0.7.0,>=0.4.6 in c:\\users\\ashas\\anaconda3\\envs\\geo\\lib\\site-packages (from pyasn1-modules>=0.2.1->google-auth>=1.4.1->earthengine-api>=0.1.347->geemap) (0.6.0)\n",
      "Requirement already satisfied: parso<0.9.0,>=0.8.0 in c:\\users\\ashas\\anaconda3\\envs\\geo\\lib\\site-packages (from jedi>=0.16->ipython>=6.1.0->ipywidgets<9,>=7.6.0->ipyleaflet==0.18.2->geemap) (0.8.3)\n",
      "Requirement already satisfied: wcwidth in c:\\users\\ashas\\anaconda3\\envs\\geo\\lib\\site-packages (from prompt-toolkit!=3.0.37,<3.1.0,>=3.0.30->ipython>=6.1.0->ipywidgets<9,>=7.6.0->ipyleaflet==0.18.2->geemap) (0.2.5)\n",
      "Requirement already satisfied: executing in c:\\users\\ashas\\anaconda3\\envs\\geo\\lib\\site-packages (from stack-data->ipython>=6.1.0->ipywidgets<9,>=7.6.0->ipyleaflet==0.18.2->geemap) (0.8.3)\n",
      "Requirement already satisfied: asttokens in c:\\users\\ashas\\anaconda3\\envs\\geo\\lib\\site-packages (from stack-data->ipython>=6.1.0->ipywidgets<9,>=7.6.0->ipyleaflet==0.18.2->geemap) (2.0.5)\n",
      "Requirement already satisfied: pure-eval in c:\\users\\ashas\\anaconda3\\envs\\geo\\lib\\site-packages (from stack-data->ipython>=6.1.0->ipywidgets<9,>=7.6.0->ipyleaflet==0.18.2->geemap) (0.2.2)\n",
      "Note: you may need to restart the kernel to use updated packages.\n"
     ]
    }
   ],
   "source": [
    "pip install geemap\n"
   ]
  },
  {
   "cell_type": "code",
   "execution_count": 2,
   "id": "76feb6b5",
   "metadata": {},
   "outputs": [],
   "source": [
    "import geemap \n",
    "import ee\n"
   ]
  },
  {
   "cell_type": "code",
   "execution_count": 3,
   "id": "a4b7fbeb",
   "metadata": {},
   "outputs": [
    {
     "data": {
      "text/html": [
       "\n",
       "            <style>\n",
       "                .geemap-dark {\n",
       "                    --jp-widgets-color: white;\n",
       "                    --jp-widgets-label-color: white;\n",
       "                    --jp-ui-font-color1: white;\n",
       "                    --jp-layout-color2: #454545;\n",
       "                    background-color: #383838;\n",
       "                }\n",
       "\n",
       "                .geemap-dark .jupyter-button {\n",
       "                    --jp-layout-color3: #383838;\n",
       "                }\n",
       "\n",
       "                .geemap-colab {\n",
       "                    background-color: var(--colab-primary-surface-color, white);\n",
       "                }\n",
       "\n",
       "                .geemap-colab .jupyter-button {\n",
       "                    --jp-layout-color3: var(--colab-primary-surface-color, white);\n",
       "                }\n",
       "            </style>\n",
       "            "
      ],
      "text/plain": [
       "<IPython.core.display.HTML object>"
      ]
     },
     "metadata": {},
     "output_type": "display_data"
    },
    {
     "data": {
      "text/html": [
       "<p>To authorize access needed by Earth Engine, open the following\n",
       "        URL in a web browser and follow the instructions:</p>\n",
       "        <p><a href=https://code.earthengine.google.com/client-auth?scopes=https%3A//www.googleapis.com/auth/earthengine%20https%3A//www.googleapis.com/auth/cloud-platform%20https%3A//www.googleapis.com/auth/devstorage.full_control&request_id=E0FFlkQumw3Z_KTU2CTSi8F6DFYO-Wdz5c-ThZviMK4&tc=i5QHg-585hdKFyt3ARMYPyMQNBpvamw3elEKTb6Misk&cc=_G3XrefrW8f23Ghp8jYFszXpsuK4N-waYgUEfxkqt6s>https://code.earthengine.google.com/client-auth?scopes=https%3A//www.googleapis.com/auth/earthengine%20https%3A//www.googleapis.com/auth/cloud-platform%20https%3A//www.googleapis.com/auth/devstorage.full_control&request_id=E0FFlkQumw3Z_KTU2CTSi8F6DFYO-Wdz5c-ThZviMK4&tc=i5QHg-585hdKFyt3ARMYPyMQNBpvamw3elEKTb6Misk&cc=_G3XrefrW8f23Ghp8jYFszXpsuK4N-waYgUEfxkqt6s</a></p>\n",
       "        <p>The authorization workflow will generate a code, which you should paste in the box below.</p>\n",
       "        "
      ],
      "text/plain": [
       "<IPython.core.display.HTML object>"
      ]
     },
     "metadata": {},
     "output_type": "display_data"
    },
    {
     "name": "stdout",
     "output_type": "stream",
     "text": [
      "Enter verification code: 4/1AdLIrYe0rV8NiWqs_ax0cEtsb_qiLRUU0Hfh-6Qo5f_vYdmXbI87W9HmWYA\n",
      "\n",
      "Successfully saved authorization token.\n"
     ]
    }
   ],
   "source": [
    "Mqp = geemap.Map()"
   ]
  },
  {
   "cell_type": "code",
   "execution_count": 6,
   "id": "4c351fb1",
   "metadata": {},
   "outputs": [
    {
     "data": {
      "text/html": [
       "\n",
       "            <style>\n",
       "                .geemap-dark {\n",
       "                    --jp-widgets-color: white;\n",
       "                    --jp-widgets-label-color: white;\n",
       "                    --jp-ui-font-color1: white;\n",
       "                    --jp-layout-color2: #454545;\n",
       "                    background-color: #383838;\n",
       "                }\n",
       "\n",
       "                .geemap-dark .jupyter-button {\n",
       "                    --jp-layout-color3: #383838;\n",
       "                }\n",
       "\n",
       "                .geemap-colab {\n",
       "                    background-color: var(--colab-primary-surface-color, white);\n",
       "                }\n",
       "\n",
       "                .geemap-colab .jupyter-button {\n",
       "                    --jp-layout-color3: var(--colab-primary-surface-color, white);\n",
       "                }\n",
       "            </style>\n",
       "            "
      ],
      "text/plain": [
       "<IPython.core.display.HTML object>"
      ]
     },
     "metadata": {},
     "output_type": "display_data"
    }
   ],
   "source": [
    "dataset=ee.ImageCollection('NASA/FLDAS/NOAH01/C/GL/M/V001').filter(ee.Filter.date('2018-11-01', '2018-12-01')).select(\"Qair_f_tavg\")\n",
    "\n",
    "    "
   ]
  },
  {
   "cell_type": "code",
   "execution_count": 7,
   "id": "605f6a62",
   "metadata": {},
   "outputs": [
    {
     "data": {
      "text/html": [
       "\n",
       "            <style>\n",
       "                .geemap-dark {\n",
       "                    --jp-widgets-color: white;\n",
       "                    --jp-widgets-label-color: white;\n",
       "                    --jp-ui-font-color1: white;\n",
       "                    --jp-layout-color2: #454545;\n",
       "                    background-color: #383838;\n",
       "                }\n",
       "\n",
       "                .geemap-dark .jupyter-button {\n",
       "                    --jp-layout-color3: #383838;\n",
       "                }\n",
       "\n",
       "                .geemap-colab {\n",
       "                    background-color: var(--colab-primary-surface-color, white);\n",
       "                }\n",
       "\n",
       "                .geemap-colab .jupyter-button {\n",
       "                    --jp-layout-color3: var(--colab-primary-surface-color, white);\n",
       "                }\n",
       "            </style>\n",
       "            "
      ],
      "text/plain": [
       "<IPython.core.display.HTML object>"
      ]
     },
     "metadata": {},
     "output_type": "display_data"
    },
    {
     "name": "stdout",
     "output_type": "stream",
     "text": [
      "Python 3.8.19\n"
     ]
    }
   ],
   "source": [
    "!python --version"
   ]
  },
  {
   "cell_type": "code",
   "execution_count": null,
   "id": "aa811d1d",
   "metadata": {},
   "outputs": [],
   "source": []
  }
 ],
 "metadata": {
  "kernelspec": {
   "display_name": "Python 3 (ipykernel)",
   "language": "python",
   "name": "python3"
  },
  "language_info": {
   "codemirror_mode": {
    "name": "ipython",
    "version": 3
   },
   "file_extension": ".py",
   "mimetype": "text/x-python",
   "name": "python",
   "nbconvert_exporter": "python",
   "pygments_lexer": "ipython3",
   "version": "3.8.19"
  }
 },
 "nbformat": 4,
 "nbformat_minor": 5
}
