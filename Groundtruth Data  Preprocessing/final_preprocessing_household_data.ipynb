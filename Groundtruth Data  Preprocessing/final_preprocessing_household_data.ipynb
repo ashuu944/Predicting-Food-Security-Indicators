{
 "cells": [
  {
   "cell_type": "markdown",
   "id": "7c186f9a",
   "metadata": {},
   "source": [
    "# Assigning Classes to FCS and HDDS for Classification Task\n",
    "In this Python notebook, we will assign classes for FCS and HDDS, we set three classes Poor, Boordeline, and Acceptance. The first thing is to check the distribution of the samples of the household survey data and assign new thresholds based on the Percentile Approach since we can not use the initial threshold set by WFP. "
   ]
  },
  {
   "cell_type": "markdown",
   "id": "64e29b9d",
   "metadata": {},
   "source": [
    "## Import Libraries\n",
    "\n",
    "In this section, we import essential libraries and modules required for data preprocessing, analysis, and visualization tasks. These libraries provide robust functionalities and tools that streamline the data analysis workflow and enable us to manipulate and explore the dataset efficiently."
   ]
  },
  {
   "cell_type": "code",
   "execution_count": 1,
   "id": "98c0bf55",
   "metadata": {},
   "outputs": [],
   "source": [
    "import pandas as pd\n",
    "from pandas import read_csv\n",
    "from pandas import read_excel\n",
    "import numpy as np\n",
    "import seaborn as sns\n",
    "import folium\n",
    "import geopandas as gpd\n",
    "import matplotlib.pyplot as plt\n",
    "from matplotlib.patches import Patch\n",
    "import plotly.express as px"
   ]
  },
  {
   "cell_type": "code",
   "execution_count": null,
   "id": "aa6203e7",
   "metadata": {},
   "outputs": [],
   "source": [
    "def concat_and_save_to_csv(df_list, file_name='concatenated_data.csv'):\n",
    "    \"\"\"\n",
    "    Concatenates a list of DataFrames into a single DataFrame and saves it to a CSV file.\n",
    "\n",
    "    Parameters:\n",
    "        df_list (list): List of DataFrames to concatenate.\n",
    "        file_name (str): Name of the CSV file to save the concatenated DataFrame. Default is 'concatenated_data.csv'.\n",
    "    \"\"\"\n",
    "    # Concatenate the DataFrames\n",
    "    concatenated_df = pd.concat(df_list, ignore_index=True)\n",
    "\n",
    "    # Save the concatenated DataFrame to a CSV file\n",
    "    concatenated_df.to_csv(file_name, index=False)\n",
    "\n",
    "    print(f\"Concatenated DataFrame saved to {file_name}\")"
   ]
  },
  {
   "cell_type": "code",
   "execution_count": 7,
   "id": "e7e776ee",
   "metadata": {},
   "outputs": [],
   "source": [
    "def checking_classification_thresholds(df, column='fcs'):\n",
    "    \"\"\"\n",
    "    Prints classification thresholds based on percentiles of a column in a DataFrame.\n",
    "\n",
    "    Parameters:\n",
    "        df (DataFrame): The DataFrame for which to print classification thresholds.\n",
    "        column (str): The name of the column used for computing thresholds. Default is 'fcs'.\n",
    "    \"\"\"\n",
    "    # Calculate the percentiles with one decimal place\n",
    "    lower_bound = np.round(np.percentile(df[column], 33.33), 1)\n",
    "    upper_bound = np.round(np.percentile(df[column], 66.67), 1)\n",
    "    \n",
    "    # Print classification thresholds\n",
    "    print(f\"FCS Thresholds:\\n\"\n",
    "          f\"  - Poor: < {lower_bound}\\n\"\n",
    "          f\"  - Borderline: {lower_bound} - {upper_bound}\\n\"\n",
    "          f\"  - Acceptance: >= {upper_bound}\")"
   ]
  },
  {
   "cell_type": "code",
   "execution_count": 2,
   "id": "88923291",
   "metadata": {},
   "outputs": [],
   "source": [
    "def assign_class(df, column_name, thresholds):\n",
    "    \"\"\"\n",
    "    Assigns a class to each row in the DataFrame based on the specified column and custom thresholds.\n",
    "\n",
    "    Parameters:\n",
    "        df (DataFrame): The DataFrame to which the class will be assigned.\n",
    "        column_name (str): The name of the column used for classification.\n",
    "        thresholds (dict): A dictionary containing custom lower and upper bounds for classification.\n",
    "                           Example: {'Poor': (lower_bound_poor, upper_bound_poor),\n",
    "                                     'Borderline': (lower_bound_borderline, upper_bound_borderline)}\n",
    "\n",
    "    Returns:\n",
    "        DataFrame: The original DataFrame with additional columns 'fcg' and 'class' assigned.\n",
    "    \"\"\"\n",
    "    # Sort the thresholds by the lower bound\n",
    "    sorted_thresholds = sorted(thresholds.items(), key=lambda x: x[1][0])\n",
    "    \n",
    "    # Define classification function based on custom thresholds\n",
    "    def classify(value):\n",
    "        for label, (lower, upper) in sorted_thresholds:\n",
    "            if value < lower:\n",
    "                return label, 1  \n",
    "            elif lower <= value < upper:\n",
    "                return label, sorted_thresholds.index((label, (lower, upper))) + 1\n",
    "        return 'Acceptance', len(sorted_thresholds) + 1  \n",
    "    \n",
    "    # Apply classification function to the specified column\n",
    "    df['fcg'], df['class'] = zip(*df[column_name].apply(classify))\n",
    "    \n",
    "    return df"
   ]
  },
  {
   "cell_type": "code",
   "execution_count": 3,
   "id": "41e7913f",
   "metadata": {},
   "outputs": [],
   "source": [
    "def assign_class_hdds_and_save(input_file, column_name, thresholds):\n",
    "    \"\"\"\n",
    "    Assigns a class_hdds to each row in the DataFrame based on the specified column and custom thresholds and saves the DataFrame as an Excel file.\n",
    "\n",
    "    Parameters:\n",
    "        input_file (str): The path to the input Excel file.\n",
    "        column_name (str): The name of the column used for classification.\n",
    "        thresholds (dict): A dictionary containing custom lower and upper bounds for classification.\n",
    "                           Example: {'Poor': (lower_bound_poor, upper_bound_poor),\n",
    "                                     'Borderline': (lower_bound_borderline, upper_bound_borderline)}\n",
    "\n",
    "    Returns:\n",
    "        DataFrame: The original DataFrame with an additional column 'class_hdds' assigned.\n",
    "    \"\"\"\n",
    "    # Load the Excel file or csv file\n",
    "    df = pd.read_excel(input_file)\n",
    "    df = pd.read_csv(input_file)\n",
    "\n",
    "    # Sort the thresholds by the lower bound\n",
    "    sorted_thresholds = sorted(thresholds.items(), key=lambda x: x[1][0])\n",
    "    \n",
    "    # Define classification function based on custom thresholds\n",
    "    def classify(value):\n",
    "        for idx, (label, (lower, upper)) in enumerate(sorted_thresholds):\n",
    "            if lower <= value < upper:\n",
    "                return idx + 1\n",
    "        return len(sorted_thresholds) + 1  # For values above all defined thresholds\n",
    "    \n",
    "    # Apply classification function to the specified column\n",
    "    df['class_hdds'] = df[column_name].apply(classify)\n",
    "    \n",
    "    # Generate the output file name\n",
    "    base, ext = os.path.splitext(input_file)\n",
    "    output_file = f\"{base}_classified{ext}\"\n",
    "    \n",
    "    # Save the DataFrame as an Excel file\n",
    "    df.to_excel(output_file, index=False)\n",
    "    \n",
    "    return df\n"
   ]
  },
  {
   "cell_type": "markdown",
   "id": "d5081bd9-a303-4498-a930-750c161b0966",
   "metadata": {},
   "source": [
    "# Tanzania Data Proprocessing"
   ]
  },
  {
   "cell_type": "markdown",
   "id": "51902a15",
   "metadata": {},
   "source": [
    "#### Merge the All Dataset Files into A Single File"
   ]
  },
  {
   "cell_type": "code",
   "execution_count": 11,
   "id": "bbe6ef72",
   "metadata": {},
   "outputs": [],
   "source": [
    "#define data directory\n",
    "tz_dir = 'Tanzania/data/'\n",
    "\n",
    "#load the data files\n",
    "df1 = read_csv(tz_dir + 'tz_2010_2011_final.csv', delimiter = ',')\n",
    "df2 = read_csv(tz_dir + 'tz_2012_2013_final.csv', delimiter = ',')\n",
    "df3 = read_csv(tz_dir + 'tz_2014_2015_final.csv', delimiter = ',')\n",
    "df4 = read_csv(tz_dir + 'tz_2019_2020_final.csv', delimiter = ',')\n",
    "df5 = read_csv(tz_dir + 'tz_2020_2022_final.csv', delimiter = ',')\n",
    "df6 = read_csv(tz_dir + 'tz_2023_final.csv', delimiter = ',')\n",
    "\n",
    "#create a list of dataframes\n",
    "df_list = [df1, df2, df3, df4, df5, df6]\n",
    "\n",
    "#call a function to merge the files\n",
    "#concat_and_save_to_csv(df_list, file_name='Tanzania/data/all_tz_data.csv')"
   ]
  },
  {
   "cell_type": "code",
   "execution_count": null,
   "id": "26d6db26",
   "metadata": {},
   "outputs": [],
   "source": []
  },
  {
   "cell_type": "code",
   "execution_count": null,
   "id": "e533e668",
   "metadata": {},
   "outputs": [],
   "source": []
  },
  {
   "cell_type": "markdown",
   "id": "ff16cd6a",
   "metadata": {},
   "source": [
    "#### Checking the Lower and Upper bound to classify the FCS"
   ]
  },
  {
   "cell_type": "code",
   "execution_count": 21,
   "id": "ae976642",
   "metadata": {},
   "outputs": [
    {
     "data": {
      "text/html": [
       "<div>\n",
       "<style scoped>\n",
       "    .dataframe tbody tr th:only-of-type {\n",
       "        vertical-align: middle;\n",
       "    }\n",
       "\n",
       "    .dataframe tbody tr th {\n",
       "        vertical-align: top;\n",
       "    }\n",
       "\n",
       "    .dataframe thead th {\n",
       "        text-align: right;\n",
       "    }\n",
       "</style>\n",
       "<table border=\"1\" class=\"dataframe\">\n",
       "  <thead>\n",
       "    <tr style=\"text-align: right;\">\n",
       "      <th></th>\n",
       "      <th>year</th>\n",
       "      <th>region</th>\n",
       "      <th>district</th>\n",
       "      <th>fcs</th>\n",
       "      <th>hdds</th>\n",
       "      <th>count</th>\n",
       "    </tr>\n",
       "  </thead>\n",
       "  <tbody>\n",
       "    <tr>\n",
       "      <th>878</th>\n",
       "      <td>2023</td>\n",
       "      <td>Tanga</td>\n",
       "      <td>Korogwe Town</td>\n",
       "      <td>20.50</td>\n",
       "      <td>4.00</td>\n",
       "      <td>1</td>\n",
       "    </tr>\n",
       "    <tr>\n",
       "      <th>879</th>\n",
       "      <td>2023</td>\n",
       "      <td>Tanga</td>\n",
       "      <td>Lushoto</td>\n",
       "      <td>62.43</td>\n",
       "      <td>8.43</td>\n",
       "      <td>7</td>\n",
       "    </tr>\n",
       "    <tr>\n",
       "      <th>880</th>\n",
       "      <td>2023</td>\n",
       "      <td>Tanga</td>\n",
       "      <td>Muheza</td>\n",
       "      <td>74.33</td>\n",
       "      <td>8.33</td>\n",
       "      <td>6</td>\n",
       "    </tr>\n",
       "    <tr>\n",
       "      <th>881</th>\n",
       "      <td>2023</td>\n",
       "      <td>Tanga</td>\n",
       "      <td>Pangani</td>\n",
       "      <td>67.25</td>\n",
       "      <td>8.25</td>\n",
       "      <td>4</td>\n",
       "    </tr>\n",
       "    <tr>\n",
       "      <th>882</th>\n",
       "      <td>2023</td>\n",
       "      <td>Tanga</td>\n",
       "      <td>Tanga</td>\n",
       "      <td>79.33</td>\n",
       "      <td>8.50</td>\n",
       "      <td>6</td>\n",
       "    </tr>\n",
       "  </tbody>\n",
       "</table>\n",
       "</div>"
      ],
      "text/plain": [
       "     year region      district    fcs  hdds  count\n",
       "878  2023  Tanga  Korogwe Town  20.50  4.00      1\n",
       "879  2023  Tanga       Lushoto  62.43  8.43      7\n",
       "880  2023  Tanga        Muheza  74.33  8.33      6\n",
       "881  2023  Tanga       Pangani  67.25  8.25      4\n",
       "882  2023  Tanga         Tanga  79.33  8.50      6"
      ]
     },
     "execution_count": 21,
     "metadata": {},
     "output_type": "execute_result"
    }
   ],
   "source": [
    "#load the merged file\n",
    "data = read_csv(tz_dir + 'all_tz_data.csv', delimiter = ',')\n",
    "data.tail()"
   ]
  },
  {
   "cell_type": "code",
   "execution_count": 22,
   "id": "9b63d11d",
   "metadata": {},
   "outputs": [
    {
     "name": "stdout",
     "output_type": "stream",
     "text": [
      "FCS Thresholds:\n",
      "  - Poor: < 50.6\n",
      "  - Borderline: 50.6 - 59.3\n",
      "  - Acceptance: >= 59.3\n"
     ]
    }
   ],
   "source": [
    "checking_classification_thresholds(data,'fcs')"
   ]
  },
  {
   "cell_type": "markdown",
   "id": "b7d75f58",
   "metadata": {},
   "source": [
    "#### Assign Classes based on threshold\n",
    "\n",
    "The threshold are like FCS Thresholds:\n",
    "  - Poor: < 50.6\n",
    "  - Borderline: 50.6 - 59.3\n",
    "  - Acceptance: >= 59.3\n",
    "  \n",
    "Let then modify a litle bit then we make like:\n",
    "  - Poor: < 50.5\n",
    "  - Borderline: 50.5 - 59.5\n",
    "  - Acceptance: >= 59.5"
   ]
  },
  {
   "cell_type": "code",
   "execution_count": 23,
   "id": "5dcb93c7",
   "metadata": {},
   "outputs": [],
   "source": [
    "thresholds = {'Poor': (0, 50.5), 'Borderline': (50.5, 59.5)}\n",
    "data_final = assign_class(data, 'fcs', thresholds)"
   ]
  },
  {
   "cell_type": "code",
   "execution_count": 24,
   "id": "0d831d68",
   "metadata": {},
   "outputs": [
    {
     "data": {
      "text/html": [
       "<div>\n",
       "<style scoped>\n",
       "    .dataframe tbody tr th:only-of-type {\n",
       "        vertical-align: middle;\n",
       "    }\n",
       "\n",
       "    .dataframe tbody tr th {\n",
       "        vertical-align: top;\n",
       "    }\n",
       "\n",
       "    .dataframe thead th {\n",
       "        text-align: right;\n",
       "    }\n",
       "</style>\n",
       "<table border=\"1\" class=\"dataframe\">\n",
       "  <thead>\n",
       "    <tr style=\"text-align: right;\">\n",
       "      <th></th>\n",
       "      <th>year</th>\n",
       "      <th>region</th>\n",
       "      <th>district</th>\n",
       "      <th>fcs</th>\n",
       "      <th>hdds</th>\n",
       "      <th>count</th>\n",
       "      <th>fcg</th>\n",
       "      <th>class</th>\n",
       "    </tr>\n",
       "  </thead>\n",
       "  <tbody>\n",
       "    <tr>\n",
       "      <th>0</th>\n",
       "      <td>2010/2011</td>\n",
       "      <td>Arusha</td>\n",
       "      <td>Arusha</td>\n",
       "      <td>65.29</td>\n",
       "      <td>8.14</td>\n",
       "      <td>7</td>\n",
       "      <td>Acceptance</td>\n",
       "      <td>3</td>\n",
       "    </tr>\n",
       "    <tr>\n",
       "      <th>1</th>\n",
       "      <td>2010/2011</td>\n",
       "      <td>Arusha</td>\n",
       "      <td>Arusha Urban</td>\n",
       "      <td>68.51</td>\n",
       "      <td>8.38</td>\n",
       "      <td>40</td>\n",
       "      <td>Acceptance</td>\n",
       "      <td>3</td>\n",
       "    </tr>\n",
       "    <tr>\n",
       "      <th>2</th>\n",
       "      <td>2010/2011</td>\n",
       "      <td>Arusha</td>\n",
       "      <td>Karatu</td>\n",
       "      <td>52.47</td>\n",
       "      <td>7.40</td>\n",
       "      <td>15</td>\n",
       "      <td>Borderline</td>\n",
       "      <td>2</td>\n",
       "    </tr>\n",
       "    <tr>\n",
       "      <th>3</th>\n",
       "      <td>2010/2011</td>\n",
       "      <td>Arusha</td>\n",
       "      <td>Meru</td>\n",
       "      <td>69.47</td>\n",
       "      <td>8.15</td>\n",
       "      <td>20</td>\n",
       "      <td>Acceptance</td>\n",
       "      <td>3</td>\n",
       "    </tr>\n",
       "    <tr>\n",
       "      <th>4</th>\n",
       "      <td>2010/2011</td>\n",
       "      <td>Arusha</td>\n",
       "      <td>Monduli</td>\n",
       "      <td>52.05</td>\n",
       "      <td>6.16</td>\n",
       "      <td>19</td>\n",
       "      <td>Borderline</td>\n",
       "      <td>2</td>\n",
       "    </tr>\n",
       "  </tbody>\n",
       "</table>\n",
       "</div>"
      ],
      "text/plain": [
       "        year  region      district    fcs  hdds  count         fcg  class\n",
       "0  2010/2011  Arusha        Arusha  65.29  8.14      7  Acceptance      3\n",
       "1  2010/2011  Arusha  Arusha Urban  68.51  8.38     40  Acceptance      3\n",
       "2  2010/2011  Arusha        Karatu  52.47  7.40     15  Borderline      2\n",
       "3  2010/2011  Arusha          Meru  69.47  8.15     20  Acceptance      3\n",
       "4  2010/2011  Arusha       Monduli  52.05  6.16     19  Borderline      2"
      ]
     },
     "execution_count": 24,
     "metadata": {},
     "output_type": "execute_result"
    }
   ],
   "source": [
    "data_final.head()"
   ]
  },
  {
   "cell_type": "code",
   "execution_count": 25,
   "id": "fce52280",
   "metadata": {},
   "outputs": [
    {
     "data": {
      "text/plain": [
       "fcg\n",
       "Borderline    304\n",
       "Poor          292\n",
       "Acceptance    287\n",
       "Name: count, dtype: int64"
      ]
     },
     "execution_count": 25,
     "metadata": {},
     "output_type": "execute_result"
    }
   ],
   "source": [
    "data_final['fcg'].value_counts()"
   ]
  },
  {
   "cell_type": "code",
   "execution_count": 26,
   "id": "45b23a34",
   "metadata": {},
   "outputs": [
    {
     "data": {
      "text/plain": [
       "class\n",
       "2    304\n",
       "1    292\n",
       "3    287\n",
       "Name: count, dtype: int64"
      ]
     },
     "execution_count": 26,
     "metadata": {},
     "output_type": "execute_result"
    }
   ],
   "source": [
    "data_final['class'].value_counts()"
   ]
  },
  {
   "cell_type": "code",
   "execution_count": 27,
   "id": "0395ae9b",
   "metadata": {},
   "outputs": [],
   "source": [
    "#save the final data\n",
    "data_final.to_csv(tz_dir+ 'final_data/tz_data_final.csv', index=False)"
   ]
  },
  {
   "cell_type": "markdown",
   "id": "2dc9bfc1",
   "metadata": {},
   "source": [
    "### Assign HDDS class"
   ]
  },
  {
   "cell_type": "code",
   "execution_count": 28,
   "id": "f1a747a7",
   "metadata": {},
   "outputs": [
    {
     "name": "stdout",
     "output_type": "stream",
     "text": [
      "FCS Thresholds:\n",
      "  - Poor: < 6.8\n",
      "  - Borderline: 6.8 - 7.5\n",
      "  - Acceptance: >= 7.5\n"
     ]
    }
   ],
   "source": [
    "checking_classification_thresholds(data,'hdds') #checking classification thresholod for hdds"
   ]
  },
  {
   "cell_type": "code",
   "execution_count": 30,
   "id": "c7886f5b",
   "metadata": {},
   "outputs": [],
   "source": [
    "input_file = 'Tanzania/rep_epa_2011-2023.xlsx'\n",
    "thresholds = {\n",
    "    'Poor': (0, 6.8),\n",
    "    'Borderline': (6.8, 7.5),\n",
    "    'Acceptance': (7.5, 12)\n",
    "}\n",
    "df_classified = assign_class_hdds_and_save(input_file, 'hdds', thresholds)"
   ]
  },
  {
   "cell_type": "code",
   "execution_count": 31,
   "id": "57594ab2",
   "metadata": {},
   "outputs": [
    {
     "data": {
      "text/html": [
       "<div>\n",
       "<style scoped>\n",
       "    .dataframe tbody tr th:only-of-type {\n",
       "        vertical-align: middle;\n",
       "    }\n",
       "\n",
       "    .dataframe tbody tr th {\n",
       "        vertical-align: top;\n",
       "    }\n",
       "\n",
       "    .dataframe thead th {\n",
       "        text-align: right;\n",
       "    }\n",
       "</style>\n",
       "<table border=\"1\" class=\"dataframe\">\n",
       "  <thead>\n",
       "    <tr style=\"text-align: right;\">\n",
       "      <th></th>\n",
       "      <th>year</th>\n",
       "      <th>region</th>\n",
       "      <th>district</th>\n",
       "      <th>fcs</th>\n",
       "      <th>hdds</th>\n",
       "      <th>count</th>\n",
       "      <th>fcg</th>\n",
       "      <th>class</th>\n",
       "      <th>DISTRICT_ID</th>\n",
       "      <th>class_hdds</th>\n",
       "    </tr>\n",
       "  </thead>\n",
       "  <tbody>\n",
       "    <tr>\n",
       "      <th>0</th>\n",
       "      <td>2011</td>\n",
       "      <td>Arusha</td>\n",
       "      <td>Arusha</td>\n",
       "      <td>65.29</td>\n",
       "      <td>8.14</td>\n",
       "      <td>7</td>\n",
       "      <td>Acceptance</td>\n",
       "      <td>3</td>\n",
       "      <td>1</td>\n",
       "      <td>3</td>\n",
       "    </tr>\n",
       "    <tr>\n",
       "      <th>1</th>\n",
       "      <td>2011</td>\n",
       "      <td>Arusha</td>\n",
       "      <td>Arusha Urban</td>\n",
       "      <td>68.51</td>\n",
       "      <td>8.38</td>\n",
       "      <td>40</td>\n",
       "      <td>Acceptance</td>\n",
       "      <td>3</td>\n",
       "      <td>2</td>\n",
       "      <td>3</td>\n",
       "    </tr>\n",
       "    <tr>\n",
       "      <th>2</th>\n",
       "      <td>2011</td>\n",
       "      <td>Arusha</td>\n",
       "      <td>Karatu</td>\n",
       "      <td>52.47</td>\n",
       "      <td>7.40</td>\n",
       "      <td>15</td>\n",
       "      <td>Borderline</td>\n",
       "      <td>2</td>\n",
       "      <td>3</td>\n",
       "      <td>2</td>\n",
       "    </tr>\n",
       "    <tr>\n",
       "      <th>3</th>\n",
       "      <td>2011</td>\n",
       "      <td>Arusha</td>\n",
       "      <td>Meru</td>\n",
       "      <td>69.47</td>\n",
       "      <td>8.15</td>\n",
       "      <td>20</td>\n",
       "      <td>Acceptance</td>\n",
       "      <td>3</td>\n",
       "      <td>4</td>\n",
       "      <td>3</td>\n",
       "    </tr>\n",
       "    <tr>\n",
       "      <th>4</th>\n",
       "      <td>2011</td>\n",
       "      <td>Arusha</td>\n",
       "      <td>Monduli</td>\n",
       "      <td>52.05</td>\n",
       "      <td>6.16</td>\n",
       "      <td>19</td>\n",
       "      <td>Borderline</td>\n",
       "      <td>2</td>\n",
       "      <td>5</td>\n",
       "      <td>1</td>\n",
       "    </tr>\n",
       "  </tbody>\n",
       "</table>\n",
       "</div>"
      ],
      "text/plain": [
       "   year  region      district    fcs  hdds  count         fcg  class  \\\n",
       "0  2011  Arusha        Arusha  65.29  8.14      7  Acceptance      3   \n",
       "1  2011  Arusha  Arusha Urban  68.51  8.38     40  Acceptance      3   \n",
       "2  2011  Arusha        Karatu  52.47  7.40     15  Borderline      2   \n",
       "3  2011  Arusha          Meru  69.47  8.15     20  Acceptance      3   \n",
       "4  2011  Arusha       Monduli  52.05  6.16     19  Borderline      2   \n",
       "\n",
       "   DISTRICT_ID  class_hdds  \n",
       "0            1           3  \n",
       "1            2           3  \n",
       "2            3           2  \n",
       "3            4           3  \n",
       "4            5           1  "
      ]
     },
     "execution_count": 31,
     "metadata": {},
     "output_type": "execute_result"
    }
   ],
   "source": [
    "df_classified.head()"
   ]
  },
  {
   "cell_type": "markdown",
   "id": "7478983b",
   "metadata": {},
   "source": [
    "## ## Final Processing of Rwanda Data "
   ]
  },
  {
   "cell_type": "markdown",
   "id": "b77bf8c8",
   "metadata": {},
   "source": [
    "#### Merge the All Dataset Files into A Single File"
   ]
  },
  {
   "cell_type": "code",
   "execution_count": 14,
   "id": "11a0bf16",
   "metadata": {},
   "outputs": [],
   "source": [
    "#define data directory\n",
    "rw_dir = 'Rwanda/data/'\n",
    "\n",
    "#load data\n",
    "df1 = read_csv(rw_dir + 'rw_2006_final.csv', delimiter = ',')\n",
    "df2 = read_csv(rw_dir + 'rw_2012_final.csv', delimiter = ',')\n",
    "df3 = read_csv(rw_dir + 'rw_2015_final.csv', delimiter = ',')\n",
    "df4 = read_csv(rw_dir + 'rw_2018_final.csv', delimiter = ',')\n",
    "df5 = read_csv(rw_dir + 'rw_2021_final.csv', delimiter = ',')\n",
    "\n",
    "#dataframe list\n",
    "df_list = [df1, df2, df3, df4, df5]\n",
    "\n",
    "#merge the dataset in a single file\n",
    "#concat_and_save_to_csv(df_list, file_name='Rwanda/data/all_rw_data.csv')"
   ]
  },
  {
   "cell_type": "markdown",
   "id": "73d7be27",
   "metadata": {},
   "source": [
    "#### Checking the Lower and Upper bound to classify the FCS"
   ]
  },
  {
   "cell_type": "code",
   "execution_count": 32,
   "id": "9d9c3ef1",
   "metadata": {},
   "outputs": [],
   "source": [
    "data = read_csv(rw_dir + 'all_rw_data.csv', delimiter = ',')"
   ]
  },
  {
   "cell_type": "code",
   "execution_count": 33,
   "id": "b4662b44",
   "metadata": {},
   "outputs": [
    {
     "data": {
      "text/html": [
       "<div>\n",
       "<style scoped>\n",
       "    .dataframe tbody tr th:only-of-type {\n",
       "        vertical-align: middle;\n",
       "    }\n",
       "\n",
       "    .dataframe tbody tr th {\n",
       "        vertical-align: top;\n",
       "    }\n",
       "\n",
       "    .dataframe thead th {\n",
       "        text-align: right;\n",
       "    }\n",
       "</style>\n",
       "<table border=\"1\" class=\"dataframe\">\n",
       "  <thead>\n",
       "    <tr style=\"text-align: right;\">\n",
       "      <th></th>\n",
       "      <th>year</th>\n",
       "      <th>province</th>\n",
       "      <th>district</th>\n",
       "      <th>fcs</th>\n",
       "      <th>hdds</th>\n",
       "      <th>count</th>\n",
       "    </tr>\n",
       "  </thead>\n",
       "  <tbody>\n",
       "    <tr>\n",
       "      <th>0</th>\n",
       "      <td>2006</td>\n",
       "      <td>Amajyaruguru</td>\n",
       "      <td>Burera</td>\n",
       "      <td>34.11</td>\n",
       "      <td>3.71</td>\n",
       "      <td>59</td>\n",
       "    </tr>\n",
       "    <tr>\n",
       "      <th>1</th>\n",
       "      <td>2006</td>\n",
       "      <td>Amajyaruguru</td>\n",
       "      <td>Gakenke</td>\n",
       "      <td>42.05</td>\n",
       "      <td>4.15</td>\n",
       "      <td>61</td>\n",
       "    </tr>\n",
       "    <tr>\n",
       "      <th>2</th>\n",
       "      <td>2006</td>\n",
       "      <td>Amajyaruguru</td>\n",
       "      <td>Gicumbi</td>\n",
       "      <td>39.73</td>\n",
       "      <td>3.70</td>\n",
       "      <td>66</td>\n",
       "    </tr>\n",
       "    <tr>\n",
       "      <th>3</th>\n",
       "      <td>2006</td>\n",
       "      <td>Amajyaruguru</td>\n",
       "      <td>Musanze</td>\n",
       "      <td>37.83</td>\n",
       "      <td>4.05</td>\n",
       "      <td>108</td>\n",
       "    </tr>\n",
       "    <tr>\n",
       "      <th>4</th>\n",
       "      <td>2006</td>\n",
       "      <td>Amajyaruguru</td>\n",
       "      <td>Rulindo</td>\n",
       "      <td>44.52</td>\n",
       "      <td>4.54</td>\n",
       "      <td>46</td>\n",
       "    </tr>\n",
       "  </tbody>\n",
       "</table>\n",
       "</div>"
      ],
      "text/plain": [
       "   year      province district    fcs  hdds  count\n",
       "0  2006  Amajyaruguru   Burera  34.11  3.71     59\n",
       "1  2006  Amajyaruguru  Gakenke  42.05  4.15     61\n",
       "2  2006  Amajyaruguru  Gicumbi  39.73  3.70     66\n",
       "3  2006  Amajyaruguru  Musanze  37.83  4.05    108\n",
       "4  2006  Amajyaruguru  Rulindo  44.52  4.54     46"
      ]
     },
     "execution_count": 33,
     "metadata": {},
     "output_type": "execute_result"
    }
   ],
   "source": [
    "data.head()"
   ]
  },
  {
   "cell_type": "code",
   "execution_count": 34,
   "id": "8754deda",
   "metadata": {},
   "outputs": [
    {
     "name": "stdout",
     "output_type": "stream",
     "text": [
      "FCS Thresholds:\n",
      "  - Poor: < 42.1\n",
      "  - Borderline: 42.1 - 47.1\n",
      "  - Acceptance: >= 47.1\n"
     ]
    }
   ],
   "source": [
    "checking_classification_thresholds(data,'fcs')"
   ]
  },
  {
   "cell_type": "markdown",
   "id": "afa22ba8",
   "metadata": {},
   "source": [
    "#### Assign Classes based on threshold\n",
    "\n",
    "The threshold are like FCS Thresholds:\n",
    "   - Poor: < 42.1\n",
    "  - Borderline: 42.1 - 47.1\n",
    "  - Acceptance: >= 47.1\n",
    "  \n",
    "Let then modify a litle bit then we make like:\n",
    "  - Poor: < 42\n",
    "  - Borderline: 42 - 47\n",
    "  - Acceptance: >= 47"
   ]
  },
  {
   "cell_type": "code",
   "execution_count": 66,
   "id": "f2bae654",
   "metadata": {},
   "outputs": [],
   "source": [
    "thresholds = {'Poor': (0, 42), 'Borderline': (42, 47)}\n",
    "data_final = assign_class(data, 'fcs', thresholds)"
   ]
  },
  {
   "cell_type": "code",
   "execution_count": 67,
   "id": "1e35a8db",
   "metadata": {},
   "outputs": [
    {
     "data": {
      "text/html": [
       "<div>\n",
       "<style scoped>\n",
       "    .dataframe tbody tr th:only-of-type {\n",
       "        vertical-align: middle;\n",
       "    }\n",
       "\n",
       "    .dataframe tbody tr th {\n",
       "        vertical-align: top;\n",
       "    }\n",
       "\n",
       "    .dataframe thead th {\n",
       "        text-align: right;\n",
       "    }\n",
       "</style>\n",
       "<table border=\"1\" class=\"dataframe\">\n",
       "  <thead>\n",
       "    <tr style=\"text-align: right;\">\n",
       "      <th></th>\n",
       "      <th>year</th>\n",
       "      <th>province</th>\n",
       "      <th>district</th>\n",
       "      <th>fcs</th>\n",
       "      <th>hdds</th>\n",
       "      <th>count</th>\n",
       "      <th>fcg</th>\n",
       "      <th>class</th>\n",
       "    </tr>\n",
       "  </thead>\n",
       "  <tbody>\n",
       "    <tr>\n",
       "      <th>0</th>\n",
       "      <td>2006</td>\n",
       "      <td>Amajyaruguru</td>\n",
       "      <td>Burera</td>\n",
       "      <td>34.11</td>\n",
       "      <td>3.71</td>\n",
       "      <td>59</td>\n",
       "      <td>Poor</td>\n",
       "      <td>1</td>\n",
       "    </tr>\n",
       "    <tr>\n",
       "      <th>1</th>\n",
       "      <td>2006</td>\n",
       "      <td>Amajyaruguru</td>\n",
       "      <td>Gakenke</td>\n",
       "      <td>42.05</td>\n",
       "      <td>4.15</td>\n",
       "      <td>61</td>\n",
       "      <td>Borderline</td>\n",
       "      <td>2</td>\n",
       "    </tr>\n",
       "    <tr>\n",
       "      <th>2</th>\n",
       "      <td>2006</td>\n",
       "      <td>Amajyaruguru</td>\n",
       "      <td>Gicumbi</td>\n",
       "      <td>39.73</td>\n",
       "      <td>3.70</td>\n",
       "      <td>66</td>\n",
       "      <td>Poor</td>\n",
       "      <td>1</td>\n",
       "    </tr>\n",
       "    <tr>\n",
       "      <th>3</th>\n",
       "      <td>2006</td>\n",
       "      <td>Amajyaruguru</td>\n",
       "      <td>Musanze</td>\n",
       "      <td>37.83</td>\n",
       "      <td>4.05</td>\n",
       "      <td>108</td>\n",
       "      <td>Poor</td>\n",
       "      <td>1</td>\n",
       "    </tr>\n",
       "    <tr>\n",
       "      <th>4</th>\n",
       "      <td>2006</td>\n",
       "      <td>Amajyaruguru</td>\n",
       "      <td>Rulindo</td>\n",
       "      <td>44.52</td>\n",
       "      <td>4.54</td>\n",
       "      <td>46</td>\n",
       "      <td>Borderline</td>\n",
       "      <td>2</td>\n",
       "    </tr>\n",
       "  </tbody>\n",
       "</table>\n",
       "</div>"
      ],
      "text/plain": [
       "   year      province district    fcs  hdds  count         fcg  class\n",
       "0  2006  Amajyaruguru   Burera  34.11  3.71     59        Poor      1\n",
       "1  2006  Amajyaruguru  Gakenke  42.05  4.15     61  Borderline      2\n",
       "2  2006  Amajyaruguru  Gicumbi  39.73  3.70     66        Poor      1\n",
       "3  2006  Amajyaruguru  Musanze  37.83  4.05    108        Poor      1\n",
       "4  2006  Amajyaruguru  Rulindo  44.52  4.54     46  Borderline      2"
      ]
     },
     "execution_count": 67,
     "metadata": {},
     "output_type": "execute_result"
    }
   ],
   "source": [
    "data_final.head()"
   ]
  },
  {
   "cell_type": "markdown",
   "id": "fb5efa7b",
   "metadata": {},
   "source": [
    "#### Dataset of 2010 - 2011"
   ]
  },
  {
   "cell_type": "code",
   "execution_count": 68,
   "id": "04744b15",
   "metadata": {},
   "outputs": [
    {
     "data": {
      "text/plain": [
       "fcg\n",
       "Acceptance    54\n",
       "Borderline    49\n",
       "Poor          44\n",
       "Name: count, dtype: int64"
      ]
     },
     "execution_count": 68,
     "metadata": {},
     "output_type": "execute_result"
    }
   ],
   "source": [
    "data_final['fcg'].value_counts()"
   ]
  },
  {
   "cell_type": "code",
   "execution_count": 69,
   "id": "efa5824f",
   "metadata": {},
   "outputs": [
    {
     "data": {
      "text/plain": [
       "class\n",
       "3    54\n",
       "2    49\n",
       "1    44\n",
       "Name: count, dtype: int64"
      ]
     },
     "execution_count": 69,
     "metadata": {},
     "output_type": "execute_result"
    }
   ],
   "source": [
    "data_final['class'].value_counts()"
   ]
  },
  {
   "cell_type": "code",
   "execution_count": 70,
   "id": "6de965ea",
   "metadata": {},
   "outputs": [],
   "source": [
    "#save the final data\n",
    "data_final.to_csv(rw_dir+ 'final_data/rw_data_final.csv', index=False)"
   ]
  },
  {
   "cell_type": "markdown",
   "id": "bff2ebc8",
   "metadata": {},
   "source": [
    "#### Assign the HDDS class"
   ]
  },
  {
   "cell_type": "code",
   "execution_count": 35,
   "id": "d061a087",
   "metadata": {},
   "outputs": [
    {
     "name": "stdout",
     "output_type": "stream",
     "text": [
      "FCS Thresholds:\n",
      "  - Poor: < 4.8\n",
      "  - Borderline: 4.8 - 5.5\n",
      "  - Acceptance: >= 5.5\n"
     ]
    }
   ],
   "source": [
    "checking_classification_thresholds(data,'hdds') #checking classification thresholod for hdds"
   ]
  },
  {
   "cell_type": "code",
   "execution_count": 36,
   "id": "d0414ebb",
   "metadata": {},
   "outputs": [],
   "source": [
    "input_file = 'Rwanda/rep_epa_2006-2021.xlsx'\n",
    "thresholds = {\n",
    "    'Poor': (0, 4.8),\n",
    "    'Borderline': (4.8, 5.5),\n",
    "    'Acceptance': (5.5, 12)\n",
    "}\n",
    "df_classified = assign_class_hdds_and_save(input_file, 'hdds', thresholds)"
   ]
  },
  {
   "cell_type": "code",
   "execution_count": 37,
   "id": "57c54165",
   "metadata": {},
   "outputs": [
    {
     "data": {
      "text/html": [
       "<div>\n",
       "<style scoped>\n",
       "    .dataframe tbody tr th:only-of-type {\n",
       "        vertical-align: middle;\n",
       "    }\n",
       "\n",
       "    .dataframe tbody tr th {\n",
       "        vertical-align: top;\n",
       "    }\n",
       "\n",
       "    .dataframe thead th {\n",
       "        text-align: right;\n",
       "    }\n",
       "</style>\n",
       "<table border=\"1\" class=\"dataframe\">\n",
       "  <thead>\n",
       "    <tr style=\"text-align: right;\">\n",
       "      <th></th>\n",
       "      <th>year</th>\n",
       "      <th>province</th>\n",
       "      <th>district</th>\n",
       "      <th>fcs</th>\n",
       "      <th>hdds</th>\n",
       "      <th>count</th>\n",
       "      <th>fcg</th>\n",
       "      <th>class</th>\n",
       "      <th>DISTRICT_ID</th>\n",
       "      <th>class_hdds</th>\n",
       "    </tr>\n",
       "  </thead>\n",
       "  <tbody>\n",
       "    <tr>\n",
       "      <th>0</th>\n",
       "      <td>2006</td>\n",
       "      <td>Amajyaruguru</td>\n",
       "      <td>Burera</td>\n",
       "      <td>34.11</td>\n",
       "      <td>3.71</td>\n",
       "      <td>59</td>\n",
       "      <td>Poor</td>\n",
       "      <td>1</td>\n",
       "      <td>1</td>\n",
       "      <td>1</td>\n",
       "    </tr>\n",
       "    <tr>\n",
       "      <th>1</th>\n",
       "      <td>2006</td>\n",
       "      <td>Amajyaruguru</td>\n",
       "      <td>Gakenke</td>\n",
       "      <td>42.05</td>\n",
       "      <td>4.15</td>\n",
       "      <td>61</td>\n",
       "      <td>Borderline</td>\n",
       "      <td>2</td>\n",
       "      <td>2</td>\n",
       "      <td>1</td>\n",
       "    </tr>\n",
       "    <tr>\n",
       "      <th>2</th>\n",
       "      <td>2006</td>\n",
       "      <td>Amajyaruguru</td>\n",
       "      <td>Gicumbi</td>\n",
       "      <td>39.73</td>\n",
       "      <td>3.70</td>\n",
       "      <td>66</td>\n",
       "      <td>Poor</td>\n",
       "      <td>1</td>\n",
       "      <td>3</td>\n",
       "      <td>1</td>\n",
       "    </tr>\n",
       "    <tr>\n",
       "      <th>3</th>\n",
       "      <td>2006</td>\n",
       "      <td>Amajyaruguru</td>\n",
       "      <td>Musanze</td>\n",
       "      <td>37.83</td>\n",
       "      <td>4.05</td>\n",
       "      <td>108</td>\n",
       "      <td>Poor</td>\n",
       "      <td>1</td>\n",
       "      <td>4</td>\n",
       "      <td>1</td>\n",
       "    </tr>\n",
       "    <tr>\n",
       "      <th>4</th>\n",
       "      <td>2006</td>\n",
       "      <td>Amajyaruguru</td>\n",
       "      <td>Rulindo</td>\n",
       "      <td>44.52</td>\n",
       "      <td>4.54</td>\n",
       "      <td>46</td>\n",
       "      <td>Borderline</td>\n",
       "      <td>2</td>\n",
       "      <td>5</td>\n",
       "      <td>1</td>\n",
       "    </tr>\n",
       "  </tbody>\n",
       "</table>\n",
       "</div>"
      ],
      "text/plain": [
       "   year      province district    fcs  hdds  count         fcg  class  \\\n",
       "0  2006  Amajyaruguru   Burera  34.11  3.71     59        Poor      1   \n",
       "1  2006  Amajyaruguru  Gakenke  42.05  4.15     61  Borderline      2   \n",
       "2  2006  Amajyaruguru  Gicumbi  39.73  3.70     66        Poor      1   \n",
       "3  2006  Amajyaruguru  Musanze  37.83  4.05    108        Poor      1   \n",
       "4  2006  Amajyaruguru  Rulindo  44.52  4.54     46  Borderline      2   \n",
       "\n",
       "   DISTRICT_ID  class_hdds  \n",
       "0            1           1  \n",
       "1            2           1  \n",
       "2            3           1  \n",
       "3            4           1  \n",
       "4            5           1  "
      ]
     },
     "execution_count": 37,
     "metadata": {},
     "output_type": "execute_result"
    }
   ],
   "source": [
    "df_classified.head()"
   ]
  },
  {
   "cell_type": "markdown",
   "id": "a98240f9",
   "metadata": {},
   "source": [
    "#### Assign FCS and HDDS for burkina Faso "
   ]
  },
  {
   "cell_type": "code",
   "execution_count": 4,
   "id": "385089c7",
   "metadata": {},
   "outputs": [],
   "source": [
    "input_file = 'rep_epa_2009-2018.xlsx'"
   ]
  },
  {
   "cell_type": "code",
   "execution_count": 5,
   "id": "42352879",
   "metadata": {},
   "outputs": [
    {
     "data": {
      "text/html": [
       "<div>\n",
       "<style scoped>\n",
       "    .dataframe tbody tr th:only-of-type {\n",
       "        vertical-align: middle;\n",
       "    }\n",
       "\n",
       "    .dataframe tbody tr th {\n",
       "        vertical-align: top;\n",
       "    }\n",
       "\n",
       "    .dataframe thead th {\n",
       "        text-align: right;\n",
       "    }\n",
       "</style>\n",
       "<table border=\"1\" class=\"dataframe\">\n",
       "  <thead>\n",
       "    <tr style=\"text-align: right;\">\n",
       "      <th></th>\n",
       "      <th>REGION</th>\n",
       "      <th>PROVINCE</th>\n",
       "      <th>COMMUNE</th>\n",
       "      <th>ID_COM</th>\n",
       "      <th>ANNEE</th>\n",
       "      <th>fcs</th>\n",
       "      <th>hdds</th>\n",
       "      <th>sca_inf</th>\n",
       "      <th>fcg</th>\n",
       "      <th>class_fcs</th>\n",
       "      <th>class_hdds</th>\n",
       "      <th>count</th>\n",
       "    </tr>\n",
       "  </thead>\n",
       "  <tbody>\n",
       "    <tr>\n",
       "      <th>0</th>\n",
       "      <td>BOUCLE DU MOUHOUN</td>\n",
       "      <td>BALE</td>\n",
       "      <td>BAGASSI</td>\n",
       "      <td>1</td>\n",
       "      <td>2009</td>\n",
       "      <td>56.280000</td>\n",
       "      <td>5.920000</td>\n",
       "      <td>0.0</td>\n",
       "      <td>Borderline</td>\n",
       "      <td>2</td>\n",
       "      <td>3</td>\n",
       "      <td>25</td>\n",
       "    </tr>\n",
       "    <tr>\n",
       "      <th>1</th>\n",
       "      <td>BOUCLE DU MOUHOUN</td>\n",
       "      <td>BALE</td>\n",
       "      <td>BAGASSI</td>\n",
       "      <td>1</td>\n",
       "      <td>2010</td>\n",
       "      <td>65.733333</td>\n",
       "      <td>6.866667</td>\n",
       "      <td>0.0</td>\n",
       "      <td>Acceptance</td>\n",
       "      <td>3</td>\n",
       "      <td>3</td>\n",
       "      <td>30</td>\n",
       "    </tr>\n",
       "    <tr>\n",
       "      <th>2</th>\n",
       "      <td>BOUCLE DU MOUHOUN</td>\n",
       "      <td>BALE</td>\n",
       "      <td>BAGASSI</td>\n",
       "      <td>1</td>\n",
       "      <td>2011</td>\n",
       "      <td>58.552632</td>\n",
       "      <td>6.526316</td>\n",
       "      <td>0.0</td>\n",
       "      <td>Borderline</td>\n",
       "      <td>2</td>\n",
       "      <td>3</td>\n",
       "      <td>19</td>\n",
       "    </tr>\n",
       "    <tr>\n",
       "      <th>3</th>\n",
       "      <td>BOUCLE DU MOUHOUN</td>\n",
       "      <td>BALE</td>\n",
       "      <td>BAGASSI</td>\n",
       "      <td>1</td>\n",
       "      <td>2012</td>\n",
       "      <td>56.420000</td>\n",
       "      <td>6.080000</td>\n",
       "      <td>0.0</td>\n",
       "      <td>Borderline</td>\n",
       "      <td>2</td>\n",
       "      <td>3</td>\n",
       "      <td>25</td>\n",
       "    </tr>\n",
       "    <tr>\n",
       "      <th>4</th>\n",
       "      <td>BOUCLE DU MOUHOUN</td>\n",
       "      <td>BALE</td>\n",
       "      <td>BAGASSI</td>\n",
       "      <td>1</td>\n",
       "      <td>2013</td>\n",
       "      <td>66.620000</td>\n",
       "      <td>6.400000</td>\n",
       "      <td>0.0</td>\n",
       "      <td>Acceptance</td>\n",
       "      <td>3</td>\n",
       "      <td>3</td>\n",
       "      <td>25</td>\n",
       "    </tr>\n",
       "  </tbody>\n",
       "</table>\n",
       "</div>"
      ],
      "text/plain": [
       "              REGION PROVINCE  COMMUNE  ID_COM  ANNEE        fcs      hdds  \\\n",
       "0  BOUCLE DU MOUHOUN     BALE  BAGASSI       1   2009  56.280000  5.920000   \n",
       "1  BOUCLE DU MOUHOUN     BALE  BAGASSI       1   2010  65.733333  6.866667   \n",
       "2  BOUCLE DU MOUHOUN     BALE  BAGASSI       1   2011  58.552632  6.526316   \n",
       "3  BOUCLE DU MOUHOUN     BALE  BAGASSI       1   2012  56.420000  6.080000   \n",
       "4  BOUCLE DU MOUHOUN     BALE  BAGASSI       1   2013  66.620000  6.400000   \n",
       "\n",
       "   sca_inf         fcg  class_fcs  class_hdds  count  \n",
       "0      0.0  Borderline          2           3     25  \n",
       "1      0.0  Acceptance          3           3     30  \n",
       "2      0.0  Borderline          2           3     19  \n",
       "3      0.0  Borderline          2           3     25  \n",
       "4      0.0  Acceptance          3           3     25  "
      ]
     },
     "execution_count": 5,
     "metadata": {},
     "output_type": "execute_result"
    }
   ],
   "source": [
    "df = pd.read_excel(input_file)\n",
    "df.head()"
   ]
  },
  {
   "cell_type": "code",
   "execution_count": 9,
   "id": "066e095d",
   "metadata": {},
   "outputs": [
    {
     "name": "stdout",
     "output_type": "stream",
     "text": [
      "FCS Thresholds:\n",
      "  - Poor: < 4.9\n",
      "  - Borderline: 4.9 - 5.9\n",
      "  - Acceptance: >= 5.9\n"
     ]
    }
   ],
   "source": [
    "checking_classification_thresholds(df,'hdds') #checking classification thresholod for hdds"
   ]
  },
  {
   "cell_type": "code",
   "execution_count": 52,
   "id": "620ed58f",
   "metadata": {},
   "outputs": [],
   "source": [
    "thresholds = {\n",
    "    'Poor': (0, 4.9),\n",
    "    'Borderline': (4.9, 5.9),\n",
    "    'Acceptance': (5.9, 12)\n",
    "}\n",
    "df_classified = assign_class_hdds_and_save(input_file, 'sda', thresholds)"
   ]
  },
  {
   "cell_type": "code",
   "execution_count": 53,
   "id": "cb3a99fa",
   "metadata": {},
   "outputs": [
    {
     "data": {
      "text/html": [
       "<div>\n",
       "<style scoped>\n",
       "    .dataframe tbody tr th:only-of-type {\n",
       "        vertical-align: middle;\n",
       "    }\n",
       "\n",
       "    .dataframe tbody tr th {\n",
       "        vertical-align: top;\n",
       "    }\n",
       "\n",
       "    .dataframe thead th {\n",
       "        text-align: right;\n",
       "    }\n",
       "</style>\n",
       "<table border=\"1\" class=\"dataframe\">\n",
       "  <thead>\n",
       "    <tr style=\"text-align: right;\">\n",
       "      <th></th>\n",
       "      <th>REGION</th>\n",
       "      <th>PROVINCE</th>\n",
       "      <th>COMMUNE</th>\n",
       "      <th>ID_COM</th>\n",
       "      <th>ANNEE</th>\n",
       "      <th>sca</th>\n",
       "      <th>sda</th>\n",
       "      <th>sca_inf</th>\n",
       "      <th>count</th>\n",
       "      <th>fcg</th>\n",
       "      <th>class</th>\n",
       "      <th>class_hdds</th>\n",
       "    </tr>\n",
       "  </thead>\n",
       "  <tbody>\n",
       "    <tr>\n",
       "      <th>0</th>\n",
       "      <td>BOUCLE DU MOUHOUN</td>\n",
       "      <td>BALE</td>\n",
       "      <td>BAGASSI</td>\n",
       "      <td>1</td>\n",
       "      <td>2009</td>\n",
       "      <td>56.280000</td>\n",
       "      <td>5.920000</td>\n",
       "      <td>0.0</td>\n",
       "      <td>25</td>\n",
       "      <td>Borderline</td>\n",
       "      <td>2</td>\n",
       "      <td>3</td>\n",
       "    </tr>\n",
       "    <tr>\n",
       "      <th>1</th>\n",
       "      <td>BOUCLE DU MOUHOUN</td>\n",
       "      <td>BALE</td>\n",
       "      <td>BAGASSI</td>\n",
       "      <td>1</td>\n",
       "      <td>2010</td>\n",
       "      <td>65.733333</td>\n",
       "      <td>6.866667</td>\n",
       "      <td>0.0</td>\n",
       "      <td>30</td>\n",
       "      <td>Acceptance</td>\n",
       "      <td>3</td>\n",
       "      <td>3</td>\n",
       "    </tr>\n",
       "    <tr>\n",
       "      <th>2</th>\n",
       "      <td>BOUCLE DU MOUHOUN</td>\n",
       "      <td>BALE</td>\n",
       "      <td>BAGASSI</td>\n",
       "      <td>1</td>\n",
       "      <td>2011</td>\n",
       "      <td>58.552632</td>\n",
       "      <td>6.526316</td>\n",
       "      <td>0.0</td>\n",
       "      <td>19</td>\n",
       "      <td>Borderline</td>\n",
       "      <td>2</td>\n",
       "      <td>3</td>\n",
       "    </tr>\n",
       "    <tr>\n",
       "      <th>3</th>\n",
       "      <td>BOUCLE DU MOUHOUN</td>\n",
       "      <td>BALE</td>\n",
       "      <td>BAGASSI</td>\n",
       "      <td>1</td>\n",
       "      <td>2012</td>\n",
       "      <td>56.420000</td>\n",
       "      <td>6.080000</td>\n",
       "      <td>0.0</td>\n",
       "      <td>25</td>\n",
       "      <td>Borderline</td>\n",
       "      <td>2</td>\n",
       "      <td>3</td>\n",
       "    </tr>\n",
       "    <tr>\n",
       "      <th>4</th>\n",
       "      <td>BOUCLE DU MOUHOUN</td>\n",
       "      <td>BALE</td>\n",
       "      <td>BAGASSI</td>\n",
       "      <td>1</td>\n",
       "      <td>2013</td>\n",
       "      <td>66.620000</td>\n",
       "      <td>6.400000</td>\n",
       "      <td>0.0</td>\n",
       "      <td>25</td>\n",
       "      <td>Acceptance</td>\n",
       "      <td>3</td>\n",
       "      <td>3</td>\n",
       "    </tr>\n",
       "  </tbody>\n",
       "</table>\n",
       "</div>"
      ],
      "text/plain": [
       "              REGION PROVINCE  COMMUNE  ID_COM  ANNEE        sca       sda  \\\n",
       "0  BOUCLE DU MOUHOUN     BALE  BAGASSI       1   2009  56.280000  5.920000   \n",
       "1  BOUCLE DU MOUHOUN     BALE  BAGASSI       1   2010  65.733333  6.866667   \n",
       "2  BOUCLE DU MOUHOUN     BALE  BAGASSI       1   2011  58.552632  6.526316   \n",
       "3  BOUCLE DU MOUHOUN     BALE  BAGASSI       1   2012  56.420000  6.080000   \n",
       "4  BOUCLE DU MOUHOUN     BALE  BAGASSI       1   2013  66.620000  6.400000   \n",
       "\n",
       "   sca_inf  count         fcg  class  class_hdds  \n",
       "0      0.0     25  Borderline      2           3  \n",
       "1      0.0     30  Acceptance      3           3  \n",
       "2      0.0     19  Borderline      2           3  \n",
       "3      0.0     25  Borderline      2           3  \n",
       "4      0.0     25  Acceptance      3           3  "
      ]
     },
     "execution_count": 53,
     "metadata": {},
     "output_type": "execute_result"
    }
   ],
   "source": [
    "df_classified.head()"
   ]
  },
  {
   "cell_type": "code",
   "execution_count": 48,
   "id": "5aa2884f",
   "metadata": {},
   "outputs": [],
   "source": [
    "data_final.to_excel(input_file, index=False)"
   ]
  }
 ],
 "metadata": {
  "kernelspec": {
   "display_name": "Python 3 (ipykernel)",
   "language": "python",
   "name": "python3"
  },
  "language_info": {
   "codemirror_mode": {
    "name": "ipython",
    "version": 3
   },
   "file_extension": ".py",
   "mimetype": "text/x-python",
   "name": "python",
   "nbconvert_exporter": "python",
   "pygments_lexer": "ipython3",
   "version": "3.8.19"
  }
 },
 "nbformat": 4,
 "nbformat_minor": 5
}
