{
 "cells": [
  {
   "cell_type": "markdown",
   "id": "fb30b366",
   "metadata": {},
   "source": [
    "## Soil Data Collection and Preprocessing\n",
    "\n",
    "[**Nutrient retention capacity (SQ2)**](https://storage.googleapis.com/fao-maps-catalog-data/geonetwork/gsoc/SQ/sq2.tif)\n",
    "\n",
    "Nutrient retention capacity is of particular importance for the effectiveness of fertilizer applications and is therefore of special relevance for intermediate and high input level cropping conditions. Nutrient retention capacity refers to the capacity of the soil to retain added nutrients against losses caused by leaching. Plant nutrients are held in the soil on the exchange sites provided by the clay fraction, organic matter and the clay-humus complex. Losses vary with the intensity of leaching which is determined by the rate of drainage of soil moisture through the soil profile. Soil texture affects nutrient retention capacity in two ways, through its effects on available exchange sites on the clay minerals and by soil permeability.\n",
    "\n",
    "[**Rooting Conditions data (SQ3)**](https://storage.googleapis.com/fao-maps-catalog-data/geonetwork/gsoc/SQ/sq3.tif)\n",
    "\n",
    "\n",
    "[Oxygen availability to roots(SQ4)](https://storage.googleapis.com/fao-maps-catalog-data/geonetwork/gsoc/SQ/sq4.tif)"
   ]
  },
  {
   "cell_type": "markdown",
   "id": "47baf594",
   "metadata": {},
   "source": [
    "## Data source\n",
    "On the basis of soil parameters provided by the **Harmonized World Soil Database (HWSD)** seven key soil qualities important for crop production have been derived, namely: nutrient availability, nutrient retention capacity, rooting conditions, oxygen availability to roots, excess salts, toxicities, and workability. Soil qualities are related to the agricultural use of the soil and more specifically to specific crop requirements and tolerances. For the illustration of soil qualities, maize was selected as reference crop because of its global importance and wide geographical distribution."
   ]
  },
  {
   "cell_type": "code",
   "execution_count": 31,
   "id": "97388824",
   "metadata": {},
   "outputs": [],
   "source": [
    "#import librabries\n",
    "import pandas as pd\n",
    "import geopandas as gpd\n",
    "import numpy as np\n",
    "import rasterio\n",
    "from rasterio.mask import mask\n",
    "import os\n",
    "import matplotlib.pyplot as plt\n",
    "from PIL import Image"
   ]
  },
  {
   "cell_type": "markdown",
   "id": "b55b014a",
   "metadata": {},
   "source": [
    "## Clip The Data For Each Country"
   ]
  },
  {
   "cell_type": "code",
   "execution_count": 32,
   "id": "da11ed6b",
   "metadata": {},
   "outputs": [],
   "source": [
    "def clip_and_combine_tiffs(tif_files, shapefile_path, output_dir):\n",
    "    \"\"\"\n",
    "    Clips multiple TIFF files to the extent of a shapefile and combines the data bands into a single TIFF file.\n",
    "    \n",
    "    Parameters:\n",
    "    tif_files (list of str): List of paths to the input TIFF files.\n",
    "    shapefile_path (str): Path to the shapefile for clipping.\n",
    "    output_dir (str): Directory where the output TIFF file will be saved.\n",
    "    \n",
    "    Returns:\n",
    "    None: \n",
    "    \"\"\"\n",
    "    # Load the shapefile\n",
    "    shapefile = gpd.read_file(shapefile_path)\n",
    "    \n",
    "    # Initialize lists to store clipped data, band names, and metadata\n",
    "    clipped_data = []\n",
    "    band_names = []\n",
    "    out_meta = None\n",
    "    \n",
    "    for tif_file in tif_files:\n",
    "        with rasterio.open(tif_file) as src:\n",
    "            # Clip the raster with the shapefile\n",
    "            out_image, out_transform = mask(src, shapefile.geometry, crop=True)\n",
    "            out_meta = src.meta.copy()\n",
    "            \n",
    "            # Update the metadata to reflect the new shape\n",
    "            out_meta.update({\n",
    "                \"driver\": \"GTiff\",\n",
    "                \"height\": out_image.shape[1],\n",
    "                \"width\": out_image.shape[2],\n",
    "                \"transform\": out_transform\n",
    "            })\n",
    "            \n",
    "            clipped_data.append(out_image)\n",
    "            \n",
    "            # Extract the filename without extension to use as band name\n",
    "            band_name = os.path.splitext(os.path.basename(tif_file))[0]\n",
    "            band_names.append(band_name)\n",
    "    \n",
    "    # Stack the clipped data arrays along the first axis (bands)\n",
    "    combined_data = np.concatenate(clipped_data, axis=0)\n",
    "    \n",
    "    # Update the number of bands in the metadata\n",
    "    out_meta.update({\"count\": combined_data.shape[0]})\n",
    "    \n",
    "    # Define the output file path\n",
    "    output_filename = \"clipped_combined.tif\"\n",
    "    output_path = os.path.join(output_dir, output_filename)\n",
    "    \n",
    "    # Write the combined data to a new TIFF file\n",
    "    with rasterio.open(output_path, \"w\", **out_meta) as dest:\n",
    "        dest.write(combined_data)\n",
    "        dest.descriptions = tuple(band_names)\n",
    "    \n",
    "    # Provide message to the user\n",
    "    print(f\"Output saved to: {output_path}\")"
   ]
  },
  {
   "cell_type": "markdown",
   "id": "93fb8208",
   "metadata": {},
   "source": [
    "## Extract The Data For each District"
   ]
  },
  {
   "cell_type": "code",
   "execution_count": 41,
   "id": "8e512c99",
   "metadata": {},
   "outputs": [],
   "source": [
    "def extract_soil_data_to_csv(tiff_file, shapefile_path, output_dir):\n",
    "    \"\"\"\n",
    "    Extracts soil data in the TIFF file, calculates the mean values by region and district, \n",
    "    and saves the data to a CSV file and GeoJSON file.\n",
    "    \n",
    "    Parameters:\n",
    "    tiff_file (str): Path to the input TIFF file.\n",
    "    shapefile_path (str): Path to the district shapefile.\n",
    "    output_dir (str): Directory where the output files will be saved.\n",
    "    \n",
    "    Returns:\n",
    "    pd.DataFrame: Dataframe with region, district, and mean values of each band.\n",
    "    \"\"\"\n",
    "    # Load the district shapefile\n",
    "    districts = gpd.read_file(shapefile_path)\n",
    "    \n",
    "    # Determine the name of the region column\n",
    "    if 'region' in districts.columns:\n",
    "        region_column = 'region'\n",
    "    elif 'province' in districts.columns:\n",
    "        region_column = 'province'\n",
    "    else:\n",
    "        raise ValueError(\"The shapefile must contain a 'region' or 'province' column.\")\n",
    "    \n",
    "    # Ensure there is a 'district' column\n",
    "    if 'district' not in districts.columns:\n",
    "        raise ValueError(\"The shapefile must contain a 'district' column.\")\n",
    "    \n",
    "    # Load the TIFF file\n",
    "    with rasterio.open(tiff_file) as src:\n",
    "        band_data = []\n",
    "        for idx, district in districts.iterrows():\n",
    "            # Clip the raster with the district geometry\n",
    "            out_image, out_transform = mask(src, [district.geometry], crop=True)\n",
    "            \n",
    "            # Calculate mean for each band\n",
    "            mean_values = np.nanmean(out_image, axis=(1, 2))\n",
    "            \n",
    "            # Create a dictionary with region, district, and mean values\n",
    "            data = {\n",
    "                region_column: district[region_column],\n",
    "                'district': district['district'],\n",
    "            }\n",
    "            for i, mean_value in enumerate(mean_values, start=1):\n",
    "                data[src.descriptions[i-1]] = mean_value  # Using band names as keys\n",
    "            \n",
    "            band_data.append(data)\n",
    "    \n",
    "    # Create a DataFrame\n",
    "    df = pd.DataFrame(band_data)\n",
    "    \n",
    "    # Define output filenames\n",
    "    csv_filename = \"soil_data.csv\"\n",
    "    geojson_filename = \"soil_data.geojson\"\n",
    "    csv_output_path = os.path.join(output_dir, csv_filename)\n",
    "    geojson_output_path = os.path.join(output_dir, geojson_filename)\n",
    "    \n",
    "    # Save the DataFrame to a CSV file\n",
    "    df.to_csv(csv_output_path, index=False)\n",
    "    print(\"The Data has been succesfully saved at \",csv_output_path)\n",
    "    \n",
    "    # Add geometry to the DataFrame for GeoJSON\n",
    "    df_geo = districts.merge(df, on=[region_column, 'district'])\n",
    "    \n",
    "    # Save the DataFrame to a GeoJSON file\n",
    "    df_geo.to_file(geojson_output_path, driver='GeoJSON')\n",
    "    \n",
    "    return df\n"
   ]
  },
  {
   "cell_type": "markdown",
   "id": "177b8b3c",
   "metadata": {},
   "source": [
    "## Visualization Function"
   ]
  },
  {
   "cell_type": "code",
   "execution_count": 52,
   "id": "7d43ba60",
   "metadata": {},
   "outputs": [],
   "source": [
    "def create_gif_from_tiff(tiff_file, output_gif_path):\n",
    "    \"\"\"\n",
    "    Creates a GIF file displaying all the bands in a TIFF file with their respective titles.\n",
    "    \n",
    "    Parameters:\n",
    "    tiff_file (str): Path to the input TIFF file.\n",
    "    output_gif_path (str): Path where the output GIF file will be saved.\n",
    "    \"\"\"\n",
    "    # Title mapping based on band names\n",
    "    title_mapping = {\n",
    "        'sq2': 'Nutrient Retention Capacity',\n",
    "        'sq3': 'Rooting Conditions',\n",
    "        'sq4': 'Oxygen Availability To Roots'\n",
    "    }\n",
    "    \n",
    "    frames = []\n",
    "    temp_image_paths = []\n",
    "    \n",
    "    with rasterio.open(tiff_file) as src:\n",
    "        for band in range(1, src.count + 1):\n",
    "            data = src.read(band)\n",
    "            band_name = src.descriptions[band-1]\n",
    "            title = title_mapping.get(band_name, f\"Band {band}\")\n",
    "            \n",
    "            # Create a plot for the band\n",
    "            fig, ax = plt.subplots(figsize=(10, 10))\n",
    "            cax = ax.imshow(data, cmap='viridis')\n",
    "            ax.set_title(title)\n",
    "            plt.colorbar(cax, ax=ax, orientation='vertical')\n",
    "            \n",
    "            # Save the plot to a temporary image file\n",
    "            temp_image_path = f\"band_{band}.png\"\n",
    "            plt.savefig(temp_image_path)\n",
    "            plt.close(fig)\n",
    "            \n",
    "            # Open the image and add it to the frames list\n",
    "            frame = Image.open(temp_image_path)\n",
    "            frames.append(frame)\n",
    "            temp_image_paths.append(temp_image_path)\n",
    "    \n",
    "    # Save frames as a GIF\n",
    "    frames[0].save(output_gif_path, format='GIF', append_images=frames[1:], save_all=True, duration=1000, loop=0)\n",
    "    \n",
    "    # Remove the temporary image files\n",
    "    for temp_image_path in temp_image_paths:\n",
    "        os.remove(temp_image_path)\n",
    "    \n",
    "    print(f\"GIF saved to: {output_gif_path}\")"
   ]
  },
  {
   "cell_type": "code",
   "execution_count": 37,
   "id": "7d537a3f",
   "metadata": {},
   "outputs": [],
   "source": [
    "sq2 = 'soil_data/sq2.tif' # Nutrient Retention Capacity\n",
    "sq3 = 'soil_data/sq3.tif' # Rooting Conditions\n",
    "sq4 = 'soil_data/sq4.tif' # Oxygen Availability To Roots\n",
    "tif_files = [sq2, sq3, sq4]"
   ]
  },
  {
   "cell_type": "markdown",
   "id": "ab272073",
   "metadata": {},
   "source": [
    "## Extract Soil Data of Tanzania"
   ]
  },
  {
   "cell_type": "code",
   "execution_count": 38,
   "id": "79d8876e",
   "metadata": {},
   "outputs": [],
   "source": [
    "tz_dir = 'tanzania_data/'\n",
    "country_shapefile = tz_dir + 'shapefiles/tz_country.shp'\n",
    "output_dir = tz_dir + 'soil_quality_data'\n",
    "\n",
    "#clip_and_combine_tiffs(tif_files, country_shapefile, output_dir)"
   ]
  },
  {
   "cell_type": "code",
   "execution_count": 58,
   "id": "bbc952a1",
   "metadata": {},
   "outputs": [],
   "source": [
    "#create gif file of soil data for Tanzania\n",
    "tiff_file = tz_dir + 'soil_quality_data/clipped_combined.tif'\n",
    "output_gif_path = tz_dir + 'soil_quality_data/processed/tz_soil_data.gif'\n",
    "#create_gif_from_tiff(tiff_file, output_gif_path)"
   ]
  },
  {
   "cell_type": "markdown",
   "id": "01f19c0a",
   "metadata": {},
   "source": [
    "## Extract the Soil Data of Each District in Tanzania "
   ]
  },
  {
   "cell_type": "code",
   "execution_count": 59,
   "id": "af3cd214",
   "metadata": {},
   "outputs": [],
   "source": [
    "tiff_file = tz_dir + 'soil_quality_data/clipped_combined.tif'\n",
    "shapefile_path = tz_dir + 'shapefiles/tz_districts.shp'\n",
    "output_dir = tz_dir + 'soil_quality_data/processed'\n",
    "#extract_soil_data_to_csv(tiff_file, shapefile_path, output_dir)"
   ]
  },
  {
   "cell_type": "markdown",
   "id": "2f38a145",
   "metadata": {},
   "source": [
    "## Extract Soil Data of Rwanda"
   ]
  },
  {
   "cell_type": "code",
   "execution_count": 60,
   "id": "e5ab8a3f",
   "metadata": {},
   "outputs": [],
   "source": [
    "rw_dir = 'rwanda_data/'\n",
    "country_shapefile = rw_dir + 'shapefiles/rw_country.shp'\n",
    "output_dir = rw_dir + 'soil_quality_data'\n",
    "#clip_and_combine_tiffs(tif_files, country_shapefile, output_dir)"
   ]
  },
  {
   "cell_type": "code",
   "execution_count": 61,
   "id": "37909206",
   "metadata": {},
   "outputs": [],
   "source": [
    "#create gif file of soil data for Rwanda\n",
    "tiff_file = rw_dir + 'soil_quality_data/clipped_combined.tif'\n",
    "output_gif_path = rw_dir + 'soil_quality_data/processed/rw_soil_data.gif'\n",
    "#create_gif_from_tiff(tiff_file, output_gif_path)"
   ]
  },
  {
   "cell_type": "markdown",
   "id": "0e1bf2b6",
   "metadata": {},
   "source": [
    "## Extract the Soil Data of Each District in Rwanda "
   ]
  },
  {
   "cell_type": "code",
   "execution_count": 63,
   "id": "b6baf7cb",
   "metadata": {},
   "outputs": [],
   "source": [
    "tiff_file = rw_dir + 'soil_quality_data/clipped_combined.tif'\n",
    "shapefile_path = rw_dir + 'shapefiles/rw_district.shp'\n",
    "output_dir = rw_dir + 'soil_quality_data/processed'\n",
    "#extract_soil_data_to_csv(tiff_file, shapefile_path, output_dir)"
   ]
  }
 ],
 "metadata": {
  "kernelspec": {
   "display_name": "Python 3 (ipykernel)",
   "language": "python",
   "name": "python3"
  },
  "language_info": {
   "codemirror_mode": {
    "name": "ipython",
    "version": 3
   },
   "file_extension": ".py",
   "mimetype": "text/x-python",
   "name": "python",
   "nbconvert_exporter": "python",
   "pygments_lexer": "ipython3",
   "version": "3.8.19"
  }
 },
 "nbformat": 4,
 "nbformat_minor": 5
}
