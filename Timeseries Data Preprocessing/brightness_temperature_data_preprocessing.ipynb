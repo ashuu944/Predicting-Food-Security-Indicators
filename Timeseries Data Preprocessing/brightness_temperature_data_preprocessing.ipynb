{
 "cells": [
  {
   "cell_type": "markdown",
   "id": "4a37a074",
   "metadata": {},
   "source": [
    "## Brightness Temperature Data Preprocessing"
   ]
  },
  {
   "cell_type": "markdown",
   "id": "60dcb3dd",
   "metadata": {},
   "source": [
    "Brightness Temperature [NOAA/CDR/GRIDSAT-B1/V2](https://developers.google.com/earth-engine/datasets/catalog/NOAA_CDR_GRIDSAT-B1_V2#description) Google Erath Engine\n",
    "\n",
    "The choosen Bands\n",
    "irwin_cdr \tK \t-2093* \t13615* \t0.01 \t200 \tBrightness temperature near 11µm, nadir-most observation"
   ]
  },
  {
   "cell_type": "code",
   "execution_count": 35,
   "id": "276c60f0",
   "metadata": {},
   "outputs": [],
   "source": [
    "import pandas as pd\n",
    "import os\n",
    "\n",
    "def kelvin_to_celsius(kelvin):\n",
    "    return kelvin - 273.15\n",
    "\n",
    "def transform_brightness_temperature(data, output_directory):\n",
    "    \"\"\"\n",
    "    Transforms brightness temperature data by pivoting month values to columns,\n",
    "    converting temperatures from Kelvin to Celsius, and saving the result to a CSV file.\n",
    "\n",
    "    Parameters:\n",
    "    data (DataFrame): A dataframe containing the data.\n",
    "    output_directory (str): Directory where the transformed CSV file will be saved.\n",
    "\n",
    "    Returns:\n",
    "    str: The path to the saved transformed CSV file.\n",
    "    \"\"\"\n",
    "\n",
    "    # Determine the geographical descriptor in the dataset\n",
    "    geo_column = 'province' if 'province' in data.columns else 'region'\n",
    "    \n",
    "    # Ensure the year values are integers\n",
    "    data['year'] = data['year'].astype(int)\n",
    "    \n",
    "    # Pivot the data\n",
    "    data_pivot = data.pivot_table(index=['year', geo_column, 'district'], columns='month', values='max_brightness_temp')\n",
    "    \n",
    "    # Rename columns\n",
    "    data_pivot.columns = [f\"smt_{str(month).zfill(2)}\" for month in data_pivot.columns]\n",
    "    \n",
    "    # Convert temperatures from Kelvin to Celsius\n",
    "    data_pivot = data_pivot.applymap(kelvin_to_celsius)\n",
    "    \n",
    "    # Reset index to turn multi-index into columns\n",
    "    data_pivot.reset_index(inplace=True)\n",
    "    \n",
    "    # Determine the year range\n",
    "    min_year = data['year'].min()\n",
    "    max_year = data['year'].max()\n",
    "    year_range = f\"{min_year}_{max_year}\"\n",
    "    \n",
    "    # Construct the output file path\n",
    "    output_filename = f\"{year_range}_smt_data.csv\"\n",
    "    output_file_path = os.path.join(output_directory, output_filename)\n",
    "    \n",
    "    # Save the transformed DataFrame to a CSV file\n",
    "    data_pivot.to_csv(output_file_path, index=False)\n",
    "    print(f\"Transformed data saved to {output_file_path}\")\n",
    "    \n",
    "    return output_file_path"
   ]
  },
  {
   "cell_type": "code",
   "execution_count": 32,
   "id": "bb01de46",
   "metadata": {},
   "outputs": [],
   "source": [
    "import pandas as pd\n",
    "\n",
    "def concatenate_csv_files(input_paths, output_path):\n",
    "    \"\"\"\n",
    "    Concatenates multiple CSV files into a single CSV file and removes duplicate rows.\n",
    "\n",
    "    Parameters:\n",
    "    input_paths (list of str): List of input file paths for the CSV files to be concatenated.\n",
    "    output_path (str): Output file path where the concatenated data will be saved.\n",
    "\n",
    "    Returns:\n",
    "    None\n",
    "    \"\"\"\n",
    "    # Initialize an empty list to store dataframes\n",
    "    dataframes = []\n",
    "    \n",
    "    # Loop through each file path in the input paths\n",
    "    for path in input_paths:\n",
    "        try:\n",
    "            # Read the CSV file into a dataframe\n",
    "            df = pd.read_csv(path)\n",
    "            # Append the dataframe to the list\n",
    "            dataframes.append(df)\n",
    "        except Exception as e:\n",
    "            print(f\"Error reading {path}: {e}\")\n",
    "    \n",
    "    try:\n",
    "        # Concatenate all dataframes in the list\n",
    "        concatenated_df = pd.concat(dataframes, ignore_index=True)\n",
    "        # Remove duplicate rows\n",
    "        concatenated_df.drop_duplicates(inplace=True)\n",
    "        # Save the concatenated dataframe to the output path\n",
    "        concatenated_df.to_csv(output_path, index=False)\n",
    "        print(f\"Concatenated file saved to {output_path}\")\n",
    "    except Exception as e:\n",
    "        print(f\"Error saving concatenated file: {e}\")"
   ]
  },
  {
   "cell_type": "code",
   "execution_count": 33,
   "id": "a736ea54",
   "metadata": {},
   "outputs": [],
   "source": [
    "def batch_transform(files, output_directory):\n",
    "    \"\"\"\n",
    "    Batch transforms multiple CSV files containing brightness temperature data and concatenates the results.\n",
    "\n",
    "    Parameters:\n",
    "    files (list of str): List of input file paths.\n",
    "    output_directory (str): Directory where the transformed and concatenated CSV files will be saved.\n",
    "\n",
    "    Returns:\n",
    "    None\n",
    "    \"\"\"\n",
    "    transformed_files = []\n",
    "    for file_path in files:\n",
    "        try:\n",
    "            data = pd.read_csv(file_path)\n",
    "            transformed_file_path = transform_brightness_temperature(data, output_directory)\n",
    "            transformed_files.append(transformed_file_path)\n",
    "        except Exception as e:\n",
    "            print(f\"Error processing {file_path}: {e}\")\n",
    "    \n",
    "    # Concatenate all transformed files into a single file\n",
    "    output_file_path = os.path.join(output_directory, 'concatenated_smt_data.csv')\n",
    "    concatenate_csv_files(transformed_files, output_file_path)"
   ]
  },
  {
   "cell_type": "code",
   "execution_count": null,
   "id": "f78bb67c",
   "metadata": {},
   "outputs": [],
   "source": []
  },
  {
   "cell_type": "markdown",
   "id": "b760acbd",
   "metadata": {},
   "source": [
    "## Tanzania"
   ]
  },
  {
   "cell_type": "code",
   "execution_count": 38,
   "id": "3ebad105",
   "metadata": {},
   "outputs": [],
   "source": [
    "# Brightness Temperature Processing\n",
    "output_directory = 'tanzania_data/brightness_temperature/processed'\n",
    "dr_bt = 'tanzania_data/brightness_temperature/'\n",
    "f1= dr_bt + 'tz_2010_2011_brightness_temp.csv'\n",
    "f2= dr_bt + 'tz_2012_2013_brightness_temp.csv'\n",
    "f3= dr_bt + 'tz_2014_2015_brightness_temp.csv'\n",
    "f4= dr_bt + 'tz_2016_2018_brightness_temp.csv'\n",
    "f5= dr_bt + 'tz_2019_2020_brightness_temp.csv'\n",
    "f6= dr_bt + 'tz_2020_2022_brightness_temp.csv'\n",
    "f7= dr_bt + 'tz_2023_brightness_temp.csv'\n",
    "files = [f1, f2, f3, f4, f5, f6, f7]\n",
    "#batch_transform(files, output_directory)"
   ]
  },
  {
   "cell_type": "code",
   "execution_count": 10,
   "id": "9be74a9a",
   "metadata": {},
   "outputs": [],
   "source": [
    "dr_rain = 'tanzania_data/meteorological_data/final_data/rainfall_data/'\n",
    "dr_tmax = 'tanzania_data/meteorological_data/final_data/tmax_data/'\n",
    "dr_tmin = 'tanzania_data/meteorological_data/final_data/tmin_data/'"
   ]
  },
  {
   "cell_type": "code",
   "execution_count": 11,
   "id": "54b8ac25",
   "metadata": {},
   "outputs": [
    {
     "name": "stdout",
     "output_type": "stream",
     "text": [
      "Concatenated file saved to tanzania_data/meteorological_data/final_data/rainfall_data/tz_rainfall_data.csv\n"
     ]
    }
   ],
   "source": [
    "#rainfall concatenates\n",
    "f1 = dr_rain + '2010_2011_data_rainfall.csv'\n",
    "f2 = dr_rain + '2012_2013_data_rainfall.csv'\n",
    "f3 = dr_rain + '2014_2015_data_rainfall.csv'\n",
    "f4 = dr_rain + '2016_2018_data_rainfall.csv'\n",
    "f5 = dr_rain + '2019_2020_data_rainfall.csv'\n",
    "f6 = dr_rain + '2020_2022_data_rainfall.csv'\n",
    "f7 = dr_rain + '2023_2023_data_rainfall.csv'\n",
    "files = [f1, f2, f3, f4, f5, f6, f7]\n",
    "output_path = dr_rain + 'tz_rainfall_data.csv'\n",
    "\n",
    "#concatenate_csv_files(files,output_path )"
   ]
  },
  {
   "cell_type": "code",
   "execution_count": 12,
   "id": "6639bc31",
   "metadata": {},
   "outputs": [
    {
     "name": "stdout",
     "output_type": "stream",
     "text": [
      "Concatenated file saved to tanzania_data/meteorological_data/final_data/tmax_data/tz_tmax_data.csv\n"
     ]
    }
   ],
   "source": [
    "#tmax concatenates\n",
    "f1 = dr_tmax + '2010_2011_data_tmax.csv'\n",
    "f2 = dr_tmax + '2012_2013_data_tmax.csv'\n",
    "f3 = dr_tmax + '2014_2015_data_tmax.csv'\n",
    "f4 = dr_tmax + '2016_2018_data_tmax.csv'\n",
    "f5 = dr_tmax + '2019_2020_data_tmax.csv'\n",
    "f6 = dr_tmax + '2020_2022_data_tmax.csv'\n",
    "f7 = dr_tmax + '2023_2023_data_tmax.csv'\n",
    "files = [f1, f2, f3, f4, f5, f6, f7]\n",
    "output_path = dr_tmax + 'tz_tmax_data.csv'\n",
    "\n",
    "#concatenate_csv_files(files,output_path )"
   ]
  },
  {
   "cell_type": "code",
   "execution_count": 14,
   "id": "8d190d6b",
   "metadata": {},
   "outputs": [],
   "source": [
    "#tmin concatenates\n",
    "f1 = dr_tmin + '2010_2011_data_tmin.csv'\n",
    "f2 = dr_tmin + '2012_2013_data_tmin.csv'\n",
    "f3 = dr_tmin + '2014_2015_data_tmin.csv'\n",
    "f4 = dr_tmin + '2016_2018_data_tmin.csv'\n",
    "f5 = dr_tmin + '2019_2020_data_tmin.csv'\n",
    "f6 = dr_tmin + '2020_2022_data_tmin.csv'\n",
    "f7 = dr_tmin + '2023_2023_data_tmin.csv'\n",
    "files = [f1, f2, f3, f4, f5, f6, f7]\n",
    "output_path = dr_tmin + 'tz_tmin_data.csv'\n",
    "\n",
    "#concatenate_csv_files(files,output_path )"
   ]
  },
  {
   "cell_type": "markdown",
   "id": "dd0b87bb",
   "metadata": {},
   "source": [
    "## Rwanda"
   ]
  },
  {
   "cell_type": "code",
   "execution_count": 39,
   "id": "5ce9f78e",
   "metadata": {},
   "outputs": [
    {
     "name": "stdout",
     "output_type": "stream",
     "text": [
      "Transformed data saved to rwanda_data/brightness_temperature/processed\\2005_2006_smt_data.csv\n",
      "Transformed data saved to rwanda_data/brightness_temperature/processed\\2011_2012_smt_data.csv\n",
      "Transformed data saved to rwanda_data/brightness_temperature/processed\\2014_2015_smt_data.csv\n",
      "Transformed data saved to rwanda_data/brightness_temperature/processed\\2017_2018_smt_data.csv\n",
      "Transformed data saved to rwanda_data/brightness_temperature/processed\\2020_2021_smt_data.csv\n",
      "Concatenated file saved to rwanda_data/brightness_temperature/processed\\concatenated_tb_data.csv\n"
     ]
    }
   ],
   "source": [
    "# Brightness Temperature Processing\n",
    "output_directory = 'rwanda_data/brightness_temperature/processed'\n",
    "dr_bt = 'rwanda_data/brightness_temperature/'\n",
    "f1= dr_bt + 'rw_2005_2006_brightness_temp.csv'\n",
    "f2= dr_bt + 'rw_2011_2012_brightness_temp.csv'\n",
    "f3= dr_bt + 'rw_2014_2015_brightness_temp.csv'\n",
    "f4= dr_bt + 'rw_2017_2018_brightness_temp.csv'\n",
    "f5= dr_bt + 'rw_2020_2021_brightness_temp.csv'\n",
    "files = [f1, f2, f3, f4, f5,]\n",
    "batch_transform(files, output_directory)"
   ]
  },
  {
   "cell_type": "code",
   "execution_count": null,
   "id": "c36286b4",
   "metadata": {},
   "outputs": [],
   "source": []
  }
 ],
 "metadata": {
  "kernelspec": {
   "display_name": "Python 3 (ipykernel)",
   "language": "python",
   "name": "python3"
  },
  "language_info": {
   "codemirror_mode": {
    "name": "ipython",
    "version": 3
   },
   "file_extension": ".py",
   "mimetype": "text/x-python",
   "name": "python",
   "nbconvert_exporter": "python",
   "pygments_lexer": "ipython3",
   "version": "3.8.19"
  }
 },
 "nbformat": 4,
 "nbformat_minor": 5
}
